{
 "cells": [
  {
   "cell_type": "code",
   "execution_count": 1,
   "metadata": {},
   "outputs": [],
   "source": [
    "import numpy as np\n",
    "import pandas as pd\n",
    "import csv\n",
    "import re\n",
    "import math"
   ]
  },
  {
   "cell_type": "markdown",
   "metadata": {},
   "source": [
    "### Preprocessing"
   ]
  },
  {
   "cell_type": "code",
   "execution_count": 2,
   "metadata": {},
   "outputs": [],
   "source": [
    "#patterns for all the other unicodes except for korean,english,and number\n",
    "en_ko_pattern = re.compile(\"[\"\n",
    "        u\"\\U00000021-\\U0000002F\"\n",
    "        u\"\\U0000003A-\\U00000040\"\n",
    "        u\"\\U0000005B-\\U00000060\"\n",
    "        u\"\\U0000007B-\\U000010ff\"\n",
    "        u\"\\U00001113-\\U00001160\"\n",
    "        u\"\\U00001176-\\U000011A7\"\n",
    "        u\"\\U000011C3-\\U00003130\"\n",
    "        u\"\\U0000314f-\\U0000ABFF\"\n",
    "        u\"\\U0000D7A4-\\U0010FFFF\"\n",
    "                           \"]+\", flags=re.UNICODE)"
   ]
  },
  {
   "cell_type": "code",
   "execution_count": 3,
   "metadata": {},
   "outputs": [],
   "source": [
    "#replace meaningless unicodes, hash, and html tags\n",
    "insta_contents = []\n",
    "with open('jeju.csv','r') as f:\n",
    "    csv_reader = csv.reader(f)\n",
    "    next(csv_reader)\n",
    "    for line in csv_reader:\n",
    "        content = line[2].replace('#',' ').replace('&nbsp;',' ').replace('&gt;',' ').replace('&lt;',' ')\n",
    "        content = en_ko_pattern.sub(r' ',content)\n",
    "        insta_contents.append(content)"
   ]
  },
  {
   "cell_type": "code",
   "execution_count": 4,
   "metadata": {},
   "outputs": [],
   "source": [
    "#remove duplicates\n",
    "insta_contents = list(dict.fromkeys(insta_contents))"
   ]
  },
  {
   "cell_type": "code",
   "execution_count": 5,
   "metadata": {},
   "outputs": [],
   "source": [
    "with open('jeju_contents.csv','w') as f:\n",
    "    for content in insta_contents:\n",
    "        f.write(content+'\\n')"
   ]
  },
  {
   "cell_type": "markdown",
   "metadata": {},
   "source": [
    "### Tagging\n",
    "따로 광고인지 아닌지 태그가 되어있지 않은 데이터이기 때문에 트레이닝을 위해서 수작업으로 태깅을 했다."
   ]
  },
  {
   "cell_type": "code",
   "execution_count": 2,
   "metadata": {},
   "outputs": [],
   "source": [
    "ads, non_ads, semi_ads, reviews = [],[],[],[]\n",
    "with open('jeju_contents_tags.csv','r') as f:\n",
    "    csv_reader = csv.reader(f)\n",
    "    for line in csv_reader:\n",
    "        if(line[1] == '0'):\n",
    "            non_ads.append(line[0])\n",
    "        elif(line[1] == '1'):\n",
    "            ads.append(line[0])\n",
    "        elif(line[1] == '2'):\n",
    "            semi_ads.append(line[0])"
   ]
  },
  {
   "cell_type": "code",
   "execution_count": 10,
   "metadata": {},
   "outputs": [
    {
     "data": {
      "text/plain": [
       "(86,\n",
       " ['사이즈가자꾸깨지는탓에 바로픽업이 힘들어져서 속상하네용  내일또 신상입고되니 많이찾아와주세요    2헨느  제주옷가게  아동의류  아동의류쇼핑몰  구남동옷가게  2reine  jeju  등원룩  문센룩  아동데일리룩  쥬니어의류쇼핑몰  링크클릭 ',\n",
       "  '오늘 하루도 감사드려요 신상하러 못올라갔지만  거래처신상보면서 신상추가 하고있어요  사진으로만 보고 주문하다보니  핀이랑 머리띠가 좀많이들어왔지만 다 이쁘다고 해주셔서 감사해요 ',\n",
       "  ' 우리아이 생일 키즈홈파티 대여 오픈 해요  첫번째 컨셉인 다이너소어파티 입니다  집에서도 다양한 컨셉으로 파티를 즐기실수 있도록준비해 드릴꺼에요  다빌리죠 상호명에 맞게 첫컨셉 잡은대로 찾아가는 중이에요  부족하지만 항상 예쁘다 해주셔서 감사해요   jeju 제주 다빌리죠 Dabillijyo 홈파티 제주카페 제주여행 제주파티 제주공항근처 제주돌스냅 제주웨딩스냅 제주파티샵 제주맘 제주아이 제주에서 제주한달살기 제주아기 제주라이프 제주커플 hbd 제주프로포즈 레터링풍선  제주풍선 제주파티소품  키즈파티 제주육아 헬륨풍선 꽃풍선 제주꽃풍선 제주이벤트'])"
      ]
     },
     "execution_count": 10,
     "metadata": {},
     "output_type": "execute_result"
    }
   ],
   "source": [
    "#제주 여행과 관련이 없는 광고 - 주로 소재지만 제주인 경우 (ex. 제주 타투가게, 제주 옷가게, 제주 미용실...)\n",
    "len(ads), ads[:3]"
   ]
  },
  {
   "cell_type": "code",
   "execution_count": 11,
   "metadata": {},
   "outputs": [
    {
     "data": {
      "text/plain": [
       "(569,\n",
       " ['누워서 한손으로  코야 잡아보기  부시럭부시럭  소리나서 놀랐더니유쨔니가 코야 만지며 놀고있더라구요 일어나면 조용히 놀고 있는 쪼꼬미틴구 ',\n",
       "  ' 로즈데이 챙겨주는   ',\n",
       "  ' Social Distancing   So In Gook Theme Park  2019 05 12 reminiscing  Jeju  tbt'])"
      ]
     },
     "execution_count": 11,
     "metadata": {},
     "output_type": "execute_result"
    }
   ],
   "source": [
    "#광고가 아닌 모든 게시글 (ex. 여행 후기, 일상, 투어)\n",
    "len(non_ads), non_ads[:3]"
   ]
  },
  {
   "cell_type": "code",
   "execution_count": 12,
   "metadata": {},
   "outputs": [
    {
     "data": {
      "text/plain": [
       "(127,\n",
       " ['다이빙   뒷풀이 또한 완벽했던 우리들   다음주에 또 만난다는건 안비밀   율강사가 육지로 날아갈게요    제주 서귀포시 칠십리로 490 01079170079  01038074475 Kakaotalk  yul0079 율랜드   율강사  현강사  체험다이빙  율랜드스쿠버  oceantag  스쿠버교육  펀다이빙  보트다이빙  야간다이빙  섶섬  제주율랜드  jeju  jejuisland  제지기오름  보목포구  제주도가볼만한곳  서귀포스쿠버  오픈워터교육  제주도스킨스쿠버  제주도스쿠버다이빙  서귀포스쿠버교육 오산다이브리조트  신세계다이버  오산리이장님  밥식혜감사합니다',\n",
       "  ' jeju  applemango  flake  빙수먹기  좋은날날씨가 습해서 빙수가 땡기는날100  제주 애플망고빙수 드시러 오세요  제주망고 애플망고 jeju mangoflake  villadeato     제주빙수 빙수스타그램 빙수맛집 빙수그램 맛있는 망고 달코롬 망고빙수 제주도 서귀포시 이중섭거리 올레시장 빙수   망빙 제주는 여름날씨 망고스무디 mango 이중섭거리 제주애플망고빙수',\n",
       "  '게스트분들이랑 제주 포토스팟 갯깍주상절리대 다녀왔어요       소규모파티게하 레스고 소등없는게하 모두동의하에 노래방  보드게임  술게임 사정없이 하는게하 이렇게 놀다가 해뜨고 자도 난모룸  실제로 여행 못하신분들 많이봄  물론 써니도 하루가 사라지는 마법 혼자와도 우리는 위아더월드 귀찮을 정도로 말걸음 조식 원하시면해드림 써니표샌드위치와 갓뚜기라면중 택 1 제주도 요지 애월과 협재사이에 있는 게하 곽지해수욕장5분  협재 애월10분 만능버스 202번 타는 정류장 집앞 2분거리에 있음 공항에서 서귀포까지 다감 2박하시면 피크닉세트 빌려드림 번거롭게 짐챙길필요없이 써니가 다 준비해드림  서핑  패들보드 바다놀이기구등 원하시면 시중가보다 저렴하게 연결해드림 같이가자고 하시면 못이기는척 같이가드림 쥔장이 요리 조금 한다고하니 재료 사오시면 다 해드림 맛보장은 못ㅋ함ㅋ 나만맛있음 야외공간 마련 야외에서 술먹으면 절대 안취함ㅎ ㅎ주량 늘리고싶으면 커먼  제주도 술로시작해서 술로 마무리해드림 제주도에 아는언니  아는동생 아는누나  아는친구 되어드림 두번째 방문부터 써니게하는 제주도 내집이되는 마ㅋ법ㅋ여기스탭추가여  게스트왈 돈내고일해요 생일이나 축하할일 있음 격하게 원래 아는사람처럼 같이 축하해드림 대신 케익은 본인이 직접사오긔 쾌적한 환경제공 게하 깨끗하고 침구 어마무시하게 깨끗  세면도구 다있음  야박하게 수건 한장이라니  무조건 두장 말잘하면 세장드림 2년차 게하인데 재방문율 높음 일주일에 한번씩 두달에 20일 온 사람도 있음 mt 기분 내고 싶으신 분들 오세욬ㅋㅋㅋㅋㅋ 30대가 20대로 바뀌는매직  제주써니하우스 아는언니네 써니하우스 소규모파티 소규모파티게하'])"
      ]
     },
     "execution_count": 12,
     "metadata": {},
     "output_type": "execute_result"
    }
   ],
   "source": [
    "#제주 여행과 관련이 있는 광고 (ex. 민박, 게스트하우스, 스쿠버다이빙, 카페)\n",
    "len(semi_ads), semi_ads[:3]"
   ]
  },
  {
   "cell_type": "markdown",
   "metadata": {},
   "source": [
    "### Tokenizing"
   ]
  },
  {
   "cell_type": "code",
   "execution_count": 3,
   "metadata": {},
   "outputs": [],
   "source": [
    "from konlpy.tag import Okt\n",
    "\n",
    "okt = Okt()"
   ]
  },
  {
   "cell_type": "code",
   "execution_count": 4,
   "metadata": {},
   "outputs": [],
   "source": [
    "#마지막 5개씩은 테스트 데이터셋\n",
    "ads_LCK, ads_Lth3 = [],[]\n",
    "for i in range(80):\n",
    "    for j in ads[i].split():\n",
    "        ads_LCK+= okt.morphs(j)\n",
    "        \n",
    "for i in range(len(ads_LCK)):\n",
    "    if len(ads_LCK[i]) >1:\n",
    "        ads_Lth3.append(ads_LCK[i])\n",
    "        \n",
    "        \n",
    "non_ads_LCK, non_ads_Lth3 = [],[]\n",
    "for i in range(175):\n",
    "    for j in non_ads[i].split():\n",
    "        non_ads_LCK+= okt.morphs(j)\n",
    "        \n",
    "for i in range(len(non_ads_LCK)):\n",
    "    if len(non_ads_LCK[i]) >1:\n",
    "        non_ads_Lth3.append(non_ads_LCK[i])\n",
    "        \n",
    "        \n",
    "semi_ads_LCK, semi_ads_Lth3 = [],[]\n",
    "for i in range(60):\n",
    "    for j in semi_ads[i].split():\n",
    "        semi_ads_LCK+= okt.morphs(j)\n",
    "        \n",
    "for i in range(len(semi_ads_LCK)):\n",
    "    if len(semi_ads_LCK[i]) >1:\n",
    "        semi_ads_Lth3.append(semi_ads_LCK[i])"
   ]
  },
  {
   "cell_type": "code",
   "execution_count": 14,
   "metadata": {},
   "outputs": [
    {
     "data": {
      "text/plain": [
       "(['사이즈', '자꾸', '깨지는', '바로', '픽업', '힘들어져서'],\n",
       " ['누워서', '한손으로', '코야', '잡아보기', '부시럭부시럭', '리나'],\n",
       " ['다이빙', '풀이', '또한', '완벽했던', '우리', '다음주'])"
      ]
     },
     "execution_count": 14,
     "metadata": {},
     "output_type": "execute_result"
    }
   ],
   "source": [
    "ads_Lth3[:6],non_ads_Lth3[:6],semi_ads_Lth3[:6]"
   ]
  },
  {
   "cell_type": "code",
   "execution_count": 15,
   "metadata": {},
   "outputs": [
    {
     "data": {
      "text/plain": [
       "(3663, 3703, 3846)"
      ]
     },
     "execution_count": 15,
     "metadata": {},
     "output_type": "execute_result"
    }
   ],
   "source": [
    "len(ads_Lth3),len(non_ads_Lth3),len(semi_ads_Lth3)"
   ]
  },
  {
   "cell_type": "markdown",
   "metadata": {},
   "source": [
    "### Probability\n",
    "\n",
    "각 토큰의 확률을 구해보았다. "
   ]
  },
  {
   "cell_type": "code",
   "execution_count": 16,
   "metadata": {},
   "outputs": [],
   "source": [
    "ads_LCKF = pd.DataFrame(ads_Lth3, columns=['token'])\n",
    "ads_c = pd.DataFrame(ads_LCKF.groupby(['token'])['token'].count()).rename(columns = {'token':'count'}).reset_index()\n",
    "ads_c['add one'] = ads_c['count']+1\n",
    "ads_c['Prob'] = ads_c['add one']/ads_c['add one'].sum()\n",
    "ads_c['LN(P)'] = np.log(ads_c['Prob'])\n",
    "\n",
    "non_ads_LCKF = pd.DataFrame(non_ads_Lth3, columns=['token'])\n",
    "non_ads_c = pd.DataFrame(non_ads_LCKF.groupby(['token'])['token'].count()).rename(columns = {'token':'count'}).reset_index()\n",
    "non_ads_c['add one'] = non_ads_c['count']+1\n",
    "non_ads_c['Prob'] = non_ads_c['add one']/non_ads_c['add one'].sum()\n",
    "non_ads_c['LN(P)'] = np.log(non_ads_c['Prob'])\n",
    "\n",
    "semi_ads_LCKF = pd.DataFrame(semi_ads_Lth3, columns=['token'])\n",
    "semi_ads_c = pd.DataFrame(semi_ads_LCKF.groupby(['token'])['token'].count()).rename(columns = {'token':'count'}).reset_index()\n",
    "semi_ads_c['add one'] = semi_ads_c['count']+1\n",
    "semi_ads_c['Prob'] = semi_ads_c['add one']/semi_ads_c['add one'].sum()\n",
    "semi_ads_c['LN(P)'] = np.log(semi_ads_c['Prob'])"
   ]
  },
  {
   "cell_type": "markdown",
   "metadata": {},
   "source": [
    "아래는 각 묶음별로 가장 출현빈도가 높은 단어들을 5개씩 나타낸 결과이다.\n",
    "해시태그 jeju로 검색한 결과이기 때문에 제주, jeju, 제주도 등의 단어가 세 묶음 모두에게서 자주 발견됨을 관찰할 수 있다.\n",
    "하지만 공통적으로 많이 나타나는 토큰은 세 집단을 구별하는데 큰 의미가 없기 때문에 이를 제거하여 동일한 과정을 다시 수행해보았다."
   ]
  },
  {
   "cell_type": "code",
   "execution_count": 17,
   "metadata": {},
   "outputs": [
    {
     "data": {
      "text/html": [
       "<div>\n",
       "<style scoped>\n",
       "    .dataframe tbody tr th:only-of-type {\n",
       "        vertical-align: middle;\n",
       "    }\n",
       "\n",
       "    .dataframe tbody tr th {\n",
       "        vertical-align: top;\n",
       "    }\n",
       "\n",
       "    .dataframe thead th {\n",
       "        text-align: right;\n",
       "    }\n",
       "</style>\n",
       "<table border=\"1\" class=\"dataframe\">\n",
       "  <thead>\n",
       "    <tr style=\"text-align: right;\">\n",
       "      <th></th>\n",
       "      <th>token</th>\n",
       "      <th>count</th>\n",
       "      <th>add one</th>\n",
       "      <th>Prob</th>\n",
       "      <th>LN(P)</th>\n",
       "    </tr>\n",
       "  </thead>\n",
       "  <tbody>\n",
       "    <tr>\n",
       "      <th>1656</th>\n",
       "      <td>제주</td>\n",
       "      <td>138</td>\n",
       "      <td>139</td>\n",
       "      <td>0.025063</td>\n",
       "      <td>-3.686358</td>\n",
       "    </tr>\n",
       "    <tr>\n",
       "      <th>1120</th>\n",
       "      <td>네일</td>\n",
       "      <td>56</td>\n",
       "      <td>57</td>\n",
       "      <td>0.010278</td>\n",
       "      <td>-4.577781</td>\n",
       "    </tr>\n",
       "    <tr>\n",
       "      <th>288</th>\n",
       "      <td>jeju</td>\n",
       "      <td>54</td>\n",
       "      <td>55</td>\n",
       "      <td>0.009917</td>\n",
       "      <td>-4.613499</td>\n",
       "    </tr>\n",
       "    <tr>\n",
       "      <th>1657</th>\n",
       "      <td>제주도</td>\n",
       "      <td>46</td>\n",
       "      <td>47</td>\n",
       "      <td>0.008475</td>\n",
       "      <td>-4.770685</td>\n",
       "    </tr>\n",
       "    <tr>\n",
       "      <th>354</th>\n",
       "      <td>ng</td>\n",
       "      <td>38</td>\n",
       "      <td>39</td>\n",
       "      <td>0.007032</td>\n",
       "      <td>-4.957271</td>\n",
       "    </tr>\n",
       "  </tbody>\n",
       "</table>\n",
       "</div>"
      ],
      "text/plain": [
       "     token  count  add one      Prob     LN(P)\n",
       "1656    제주    138      139  0.025063 -3.686358\n",
       "1120    네일     56       57  0.010278 -4.577781\n",
       "288   jeju     54       55  0.009917 -4.613499\n",
       "1657   제주도     46       47  0.008475 -4.770685\n",
       "354     ng     38       39  0.007032 -4.957271"
      ]
     },
     "execution_count": 17,
     "metadata": {},
     "output_type": "execute_result"
    }
   ],
   "source": [
    "ads_c.sort_values(by=['add one'], ascending=False).iloc[:5]"
   ]
  },
  {
   "cell_type": "code",
   "execution_count": 18,
   "metadata": {},
   "outputs": [
    {
     "data": {
      "text/html": [
       "<div>\n",
       "<style scoped>\n",
       "    .dataframe tbody tr th:only-of-type {\n",
       "        vertical-align: middle;\n",
       "    }\n",
       "\n",
       "    .dataframe tbody tr th {\n",
       "        vertical-align: top;\n",
       "    }\n",
       "\n",
       "    .dataframe thead th {\n",
       "        text-align: right;\n",
       "    }\n",
       "</style>\n",
       "<table border=\"1\" class=\"dataframe\">\n",
       "  <thead>\n",
       "    <tr style=\"text-align: right;\">\n",
       "      <th></th>\n",
       "      <th>token</th>\n",
       "      <th>count</th>\n",
       "      <th>add one</th>\n",
       "      <th>Prob</th>\n",
       "      <th>LN(P)</th>\n",
       "    </tr>\n",
       "  </thead>\n",
       "  <tbody>\n",
       "    <tr>\n",
       "      <th>1860</th>\n",
       "      <td>제주</td>\n",
       "      <td>117</td>\n",
       "      <td>118</td>\n",
       "      <td>0.020268</td>\n",
       "      <td>-3.898714</td>\n",
       "    </tr>\n",
       "    <tr>\n",
       "      <th>304</th>\n",
       "      <td>jeju</td>\n",
       "      <td>98</td>\n",
       "      <td>99</td>\n",
       "      <td>0.017004</td>\n",
       "      <td>-4.074279</td>\n",
       "    </tr>\n",
       "    <tr>\n",
       "      <th>1654</th>\n",
       "      <td>여행</td>\n",
       "      <td>75</td>\n",
       "      <td>76</td>\n",
       "      <td>0.013054</td>\n",
       "      <td>-4.338666</td>\n",
       "    </tr>\n",
       "    <tr>\n",
       "      <th>1861</th>\n",
       "      <td>제주도</td>\n",
       "      <td>68</td>\n",
       "      <td>69</td>\n",
       "      <td>0.011852</td>\n",
       "      <td>-4.435293</td>\n",
       "    </tr>\n",
       "    <tr>\n",
       "      <th>1084</th>\n",
       "      <td>그램</td>\n",
       "      <td>48</td>\n",
       "      <td>49</td>\n",
       "      <td>0.008416</td>\n",
       "      <td>-4.777579</td>\n",
       "    </tr>\n",
       "  </tbody>\n",
       "</table>\n",
       "</div>"
      ],
      "text/plain": [
       "     token  count  add one      Prob     LN(P)\n",
       "1860    제주    117      118  0.020268 -3.898714\n",
       "304   jeju     98       99  0.017004 -4.074279\n",
       "1654    여행     75       76  0.013054 -4.338666\n",
       "1861   제주도     68       69  0.011852 -4.435293\n",
       "1084    그램     48       49  0.008416 -4.777579"
      ]
     },
     "execution_count": 18,
     "metadata": {},
     "output_type": "execute_result"
    }
   ],
   "source": [
    "non_ads_c.sort_values(by=['add one'], ascending=False).iloc[:5]"
   ]
  },
  {
   "cell_type": "code",
   "execution_count": 19,
   "metadata": {},
   "outputs": [
    {
     "data": {
      "text/html": [
       "<div>\n",
       "<style scoped>\n",
       "    .dataframe tbody tr th:only-of-type {\n",
       "        vertical-align: middle;\n",
       "    }\n",
       "\n",
       "    .dataframe tbody tr th {\n",
       "        vertical-align: top;\n",
       "    }\n",
       "\n",
       "    .dataframe thead th {\n",
       "        text-align: right;\n",
       "    }\n",
       "</style>\n",
       "<table border=\"1\" class=\"dataframe\">\n",
       "  <thead>\n",
       "    <tr style=\"text-align: right;\">\n",
       "      <th></th>\n",
       "      <th>token</th>\n",
       "      <th>count</th>\n",
       "      <th>add one</th>\n",
       "      <th>Prob</th>\n",
       "      <th>LN(P)</th>\n",
       "    </tr>\n",
       "  </thead>\n",
       "  <tbody>\n",
       "    <tr>\n",
       "      <th>1512</th>\n",
       "      <td>제주</td>\n",
       "      <td>207</td>\n",
       "      <td>208</td>\n",
       "      <td>0.037057</td>\n",
       "      <td>-3.295303</td>\n",
       "    </tr>\n",
       "    <tr>\n",
       "      <th>1039</th>\n",
       "      <td>맛집</td>\n",
       "      <td>154</td>\n",
       "      <td>155</td>\n",
       "      <td>0.027614</td>\n",
       "      <td>-3.589415</td>\n",
       "    </tr>\n",
       "    <tr>\n",
       "      <th>1513</th>\n",
       "      <td>제주도</td>\n",
       "      <td>67</td>\n",
       "      <td>68</td>\n",
       "      <td>0.012115</td>\n",
       "      <td>-4.413333</td>\n",
       "    </tr>\n",
       "    <tr>\n",
       "      <th>1293</th>\n",
       "      <td>애월</td>\n",
       "      <td>57</td>\n",
       "      <td>58</td>\n",
       "      <td>0.010333</td>\n",
       "      <td>-4.572398</td>\n",
       "    </tr>\n",
       "    <tr>\n",
       "      <th>166</th>\n",
       "      <td>jeju</td>\n",
       "      <td>43</td>\n",
       "      <td>44</td>\n",
       "      <td>0.007839</td>\n",
       "      <td>-4.848651</td>\n",
       "    </tr>\n",
       "  </tbody>\n",
       "</table>\n",
       "</div>"
      ],
      "text/plain": [
       "     token  count  add one      Prob     LN(P)\n",
       "1512    제주    207      208  0.037057 -3.295303\n",
       "1039    맛집    154      155  0.027614 -3.589415\n",
       "1513   제주도     67       68  0.012115 -4.413333\n",
       "1293    애월     57       58  0.010333 -4.572398\n",
       "166   jeju     43       44  0.007839 -4.848651"
      ]
     },
     "execution_count": 19,
     "metadata": {},
     "output_type": "execute_result"
    }
   ],
   "source": [
    "semi_ads_c.sort_values(by=['add one'], ascending=False).iloc[:5]"
   ]
  },
  {
   "cell_type": "markdown",
   "metadata": {},
   "source": [
    "### Probability - removed common words"
   ]
  },
  {
   "cell_type": "code",
   "execution_count": 5,
   "metadata": {},
   "outputs": [],
   "source": [
    "common_words = [\"제주\",\"제주도\",\"jeju\",\"제주\"]\n",
    "\n",
    "new_ads_Lth3,new_non_ads_Lth3,new_semi_ads_Lth3 = [],[],[]\n",
    "for i in ads_Lth3:\n",
    "    if i not in common_words:\n",
    "        new_ads_Lth3.append(i)\n",
    "        \n",
    "for i in non_ads_Lth3:\n",
    "    if i not in common_words:\n",
    "        new_non_ads_Lth3.append(i)\n",
    "        \n",
    "for i in semi_ads_Lth3:\n",
    "    if i not in common_words:\n",
    "        new_semi_ads_Lth3.append(i)"
   ]
  },
  {
   "cell_type": "code",
   "execution_count": 21,
   "metadata": {},
   "outputs": [
    {
     "data": {
      "text/plain": [
       "(3663, 3409)"
      ]
     },
     "execution_count": 21,
     "metadata": {},
     "output_type": "execute_result"
    }
   ],
   "source": [
    "len(ads_Lth3),len(new_ads_Lth3)"
   ]
  },
  {
   "cell_type": "code",
   "execution_count": 22,
   "metadata": {},
   "outputs": [
    {
     "data": {
      "text/plain": [
       "(3703, 3401)"
      ]
     },
     "execution_count": 22,
     "metadata": {},
     "output_type": "execute_result"
    }
   ],
   "source": [
    "len(non_ads_Lth3),len(new_non_ads_Lth3)"
   ]
  },
  {
   "cell_type": "code",
   "execution_count": 23,
   "metadata": {},
   "outputs": [
    {
     "data": {
      "text/plain": [
       "(3846, 3519)"
      ]
     },
     "execution_count": 23,
     "metadata": {},
     "output_type": "execute_result"
    }
   ],
   "source": [
    "len(semi_ads_Lth3),len(new_semi_ads_Lth3)"
   ]
  },
  {
   "cell_type": "code",
   "execution_count": 6,
   "metadata": {},
   "outputs": [],
   "source": [
    "ads_LCKF = pd.DataFrame(new_ads_Lth3, columns=['token'])\n",
    "ads_c = pd.DataFrame(ads_LCKF.groupby(['token'])['token'].count()).rename(columns = {'token':'count'}).reset_index()\n",
    "ads_c['add one'] = ads_c['count']+1\n",
    "ads_c['Prob'] = ads_c['add one']/ads_c['add one'].sum()\n",
    "ads_c['LN(P)'] = np.log(ads_c['Prob'])\n",
    "\n",
    "non_ads_LCKF = pd.DataFrame(new_non_ads_Lth3, columns=['token'])\n",
    "non_ads_c = pd.DataFrame(non_ads_LCKF.groupby(['token'])['token'].count()).rename(columns = {'token':'count'}).reset_index()\n",
    "non_ads_c['add one'] = non_ads_c['count']+1\n",
    "non_ads_c['Prob'] = non_ads_c['add one']/non_ads_c['add one'].sum()\n",
    "non_ads_c['LN(P)'] = np.log(non_ads_c['Prob'])\n",
    "\n",
    "semi_ads_LCKF = pd.DataFrame(new_semi_ads_Lth3, columns=['token'])\n",
    "semi_ads_c = pd.DataFrame(semi_ads_LCKF.groupby(['token'])['token'].count()).rename(columns = {'token':'count'}).reset_index()\n",
    "semi_ads_c['add one'] = semi_ads_c['count']+1\n",
    "semi_ads_c['Prob'] = semi_ads_c['add one']/semi_ads_c['add one'].sum()\n",
    "semi_ads_c['LN(P)'] = np.log(semi_ads_c['Prob'])"
   ]
  },
  {
   "cell_type": "code",
   "execution_count": 25,
   "metadata": {},
   "outputs": [
    {
     "data": {
      "text/html": [
       "<div>\n",
       "<style scoped>\n",
       "    .dataframe tbody tr th:only-of-type {\n",
       "        vertical-align: middle;\n",
       "    }\n",
       "\n",
       "    .dataframe tbody tr th {\n",
       "        vertical-align: top;\n",
       "    }\n",
       "\n",
       "    .dataframe thead th {\n",
       "        text-align: right;\n",
       "    }\n",
       "</style>\n",
       "<table border=\"1\" class=\"dataframe\">\n",
       "  <thead>\n",
       "    <tr style=\"text-align: right;\">\n",
       "      <th></th>\n",
       "      <th>token</th>\n",
       "      <th>count</th>\n",
       "      <th>add one</th>\n",
       "      <th>Prob</th>\n",
       "      <th>LN(P)</th>\n",
       "    </tr>\n",
       "  </thead>\n",
       "  <tbody>\n",
       "    <tr>\n",
       "      <th>1118</th>\n",
       "      <td>네일</td>\n",
       "      <td>56</td>\n",
       "      <td>57</td>\n",
       "      <td>0.010779</td>\n",
       "      <td>-4.530144</td>\n",
       "    </tr>\n",
       "    <tr>\n",
       "      <th>353</th>\n",
       "      <td>ng</td>\n",
       "      <td>38</td>\n",
       "      <td>39</td>\n",
       "      <td>0.007375</td>\n",
       "      <td>-4.909634</td>\n",
       "    </tr>\n",
       "    <tr>\n",
       "      <th>1720</th>\n",
       "      <td>청년</td>\n",
       "      <td>31</td>\n",
       "      <td>32</td>\n",
       "      <td>0.006051</td>\n",
       "      <td>-5.107459</td>\n",
       "    </tr>\n",
       "    <tr>\n",
       "      <th>1411</th>\n",
       "      <td>스냅</td>\n",
       "      <td>31</td>\n",
       "      <td>32</td>\n",
       "      <td>0.006051</td>\n",
       "      <td>-5.107459</td>\n",
       "    </tr>\n",
       "    <tr>\n",
       "      <th>1543</th>\n",
       "      <td>웨딩</td>\n",
       "      <td>23</td>\n",
       "      <td>24</td>\n",
       "      <td>0.004539</td>\n",
       "      <td>-5.395142</td>\n",
       "    </tr>\n",
       "  </tbody>\n",
       "</table>\n",
       "</div>"
      ],
      "text/plain": [
       "     token  count  add one      Prob     LN(P)\n",
       "1118    네일     56       57  0.010779 -4.530144\n",
       "353     ng     38       39  0.007375 -4.909634\n",
       "1720    청년     31       32  0.006051 -5.107459\n",
       "1411    스냅     31       32  0.006051 -5.107459\n",
       "1543    웨딩     23       24  0.004539 -5.395142"
      ]
     },
     "execution_count": 25,
     "metadata": {},
     "output_type": "execute_result"
    }
   ],
   "source": [
    "ads_c.sort_values(by=['add one'], ascending=False).iloc[:5]"
   ]
  },
  {
   "cell_type": "code",
   "execution_count": 26,
   "metadata": {},
   "outputs": [
    {
     "data": {
      "text/html": [
       "<div>\n",
       "<style scoped>\n",
       "    .dataframe tbody tr th:only-of-type {\n",
       "        vertical-align: middle;\n",
       "    }\n",
       "\n",
       "    .dataframe tbody tr th {\n",
       "        vertical-align: top;\n",
       "    }\n",
       "\n",
       "    .dataframe thead th {\n",
       "        text-align: right;\n",
       "    }\n",
       "</style>\n",
       "<table border=\"1\" class=\"dataframe\">\n",
       "  <thead>\n",
       "    <tr style=\"text-align: right;\">\n",
       "      <th></th>\n",
       "      <th>token</th>\n",
       "      <th>count</th>\n",
       "      <th>add one</th>\n",
       "      <th>Prob</th>\n",
       "      <th>LN(P)</th>\n",
       "    </tr>\n",
       "  </thead>\n",
       "  <tbody>\n",
       "    <tr>\n",
       "      <th>1652</th>\n",
       "      <td>여행</td>\n",
       "      <td>75</td>\n",
       "      <td>76</td>\n",
       "      <td>0.013778</td>\n",
       "      <td>-4.284675</td>\n",
       "    </tr>\n",
       "    <tr>\n",
       "      <th>1082</th>\n",
       "      <td>그램</td>\n",
       "      <td>48</td>\n",
       "      <td>49</td>\n",
       "      <td>0.008883</td>\n",
       "      <td>-4.723588</td>\n",
       "    </tr>\n",
       "    <tr>\n",
       "      <th>1515</th>\n",
       "      <td>스타</td>\n",
       "      <td>39</td>\n",
       "      <td>40</td>\n",
       "      <td>0.007252</td>\n",
       "      <td>-4.926529</td>\n",
       "    </tr>\n",
       "    <tr>\n",
       "      <th>1795</th>\n",
       "      <td>일상</td>\n",
       "      <td>31</td>\n",
       "      <td>32</td>\n",
       "      <td>0.005801</td>\n",
       "      <td>-5.149672</td>\n",
       "    </tr>\n",
       "    <tr>\n",
       "      <th>197</th>\n",
       "      <td>daily</td>\n",
       "      <td>26</td>\n",
       "      <td>27</td>\n",
       "      <td>0.004895</td>\n",
       "      <td>-5.319571</td>\n",
       "    </tr>\n",
       "  </tbody>\n",
       "</table>\n",
       "</div>"
      ],
      "text/plain": [
       "      token  count  add one      Prob     LN(P)\n",
       "1652     여행     75       76  0.013778 -4.284675\n",
       "1082     그램     48       49  0.008883 -4.723588\n",
       "1515     스타     39       40  0.007252 -4.926529\n",
       "1795     일상     31       32  0.005801 -5.149672\n",
       "197   daily     26       27  0.004895 -5.319571"
      ]
     },
     "execution_count": 26,
     "metadata": {},
     "output_type": "execute_result"
    }
   ],
   "source": [
    "non_ads_c.sort_values(by=['add one'], ascending=False).iloc[:5]"
   ]
  },
  {
   "cell_type": "code",
   "execution_count": 7,
   "metadata": {},
   "outputs": [
    {
     "data": {
      "text/html": [
       "<div>\n",
       "<style scoped>\n",
       "    .dataframe tbody tr th:only-of-type {\n",
       "        vertical-align: middle;\n",
       "    }\n",
       "\n",
       "    .dataframe tbody tr th {\n",
       "        vertical-align: top;\n",
       "    }\n",
       "\n",
       "    .dataframe thead th {\n",
       "        text-align: right;\n",
       "    }\n",
       "</style>\n",
       "<table border=\"1\" class=\"dataframe\">\n",
       "  <thead>\n",
       "    <tr style=\"text-align: right;\">\n",
       "      <th></th>\n",
       "      <th>token</th>\n",
       "      <th>count</th>\n",
       "      <th>add one</th>\n",
       "      <th>Prob</th>\n",
       "      <th>LN(P)</th>\n",
       "    </tr>\n",
       "  </thead>\n",
       "  <tbody>\n",
       "    <tr>\n",
       "      <th>1037</th>\n",
       "      <td>맛집</td>\n",
       "      <td>154</td>\n",
       "      <td>155</td>\n",
       "      <td>0.029345</td>\n",
       "      <td>-3.528635</td>\n",
       "    </tr>\n",
       "    <tr>\n",
       "      <th>1291</th>\n",
       "      <td>애월</td>\n",
       "      <td>57</td>\n",
       "      <td>58</td>\n",
       "      <td>0.010981</td>\n",
       "      <td>-4.511617</td>\n",
       "    </tr>\n",
       "    <tr>\n",
       "      <th>1340</th>\n",
       "      <td>여행</td>\n",
       "      <td>38</td>\n",
       "      <td>39</td>\n",
       "      <td>0.007384</td>\n",
       "      <td>-4.908498</td>\n",
       "    </tr>\n",
       "    <tr>\n",
       "      <th>1606</th>\n",
       "      <td>카페</td>\n",
       "      <td>29</td>\n",
       "      <td>30</td>\n",
       "      <td>0.005680</td>\n",
       "      <td>-5.170863</td>\n",
       "    </tr>\n",
       "    <tr>\n",
       "      <th>1590</th>\n",
       "      <td>추천</td>\n",
       "      <td>29</td>\n",
       "      <td>30</td>\n",
       "      <td>0.005680</td>\n",
       "      <td>-5.170863</td>\n",
       "    </tr>\n",
       "  </tbody>\n",
       "</table>\n",
       "</div>"
      ],
      "text/plain": [
       "     token  count  add one      Prob     LN(P)\n",
       "1037    맛집    154      155  0.029345 -3.528635\n",
       "1291    애월     57       58  0.010981 -4.511617\n",
       "1340    여행     38       39  0.007384 -4.908498\n",
       "1606    카페     29       30  0.005680 -5.170863\n",
       "1590    추천     29       30  0.005680 -5.170863"
      ]
     },
     "execution_count": 7,
     "metadata": {},
     "output_type": "execute_result"
    }
   ],
   "source": [
    "semi_ads_c.sort_values(by=['add one'], ascending=False).iloc[:5]"
   ]
  },
  {
   "cell_type": "markdown",
   "metadata": {},
   "source": [
    "### Test"
   ]
  },
  {
   "cell_type": "code",
   "execution_count": 8,
   "metadata": {},
   "outputs": [],
   "source": [
    "# Test_data = ads[-5:]+non_ads[-5:]+semi_ads[-5:]\n",
    "with open('jeju_contents_test.csv','r') as f:\n",
    "    Test_data = f.readlines()\n",
    "\n",
    "Test_data_split = []\n",
    "for i in range(len(Test_data)):\n",
    "    tmp=[]\n",
    "    for j in Test_data[i].split():\n",
    "        tmp += okt.morphs(j)\n",
    "    Test_data_split.append(tmp)"
   ]
  },
  {
   "cell_type": "code",
   "execution_count": 9,
   "metadata": {},
   "outputs": [],
   "source": [
    "ads_prob = [[] for cols in range(len(Test_data_split))]\n",
    "for i in range(len(Test_data_split)):\n",
    "    for j in range(len(Test_data_split[i])):\n",
    "        if len(Test_data_split[i][j]) > 1 and j not in common_words:\n",
    "            if(ads_c[ads_c['token'].isin([Test_data_split[i][j]])]['LN(P)'].empty):\n",
    "                ads_prob[i].append(math.log(1/ads_c['add one'].sum()))\n",
    "            else:\n",
    "                ads_prob[i].append(ads_c[ads_c['token'].isin([Test_data_split[i][j]])]['LN(P)'].values[0])\n",
    "        else:\n",
    "            ads_prob[i].append(0.0)\n",
    "\n",
    "non_ads_prob = [[] for cols in range(len(Test_data_split))]\n",
    "for i in range(len(Test_data_split)):\n",
    "    for j in range(len(Test_data_split[i])):\n",
    "        if len(Test_data_split[i][j]) > 1:\n",
    "            if(non_ads_c[non_ads_c['token'].isin([Test_data_split[i][j]])]['LN(P)'].empty):\n",
    "                non_ads_prob[i].append(math.log(1/non_ads_c['add one'].sum()))\n",
    "            else:\n",
    "                non_ads_prob[i].append(non_ads_c[non_ads_c['token'].isin([Test_data_split[i][j]])]['LN(P)'].values[0])\n",
    "        else:\n",
    "            non_ads_prob[i].append(0.0)\n",
    "            \n",
    "semi_ads_prob = [[] for cols in range(len(Test_data_split))]\n",
    "for i in range(len(Test_data_split)):\n",
    "    for j in range(len(Test_data_split[i])):\n",
    "        if len(Test_data_split[i][j]) > 1:\n",
    "            if(semi_ads_c[semi_ads_c['token'].isin([Test_data_split[i][j]])]['LN(P)'].empty):\n",
    "                semi_ads_prob[i].append(math.log(1/semi_ads_c['add one'].sum()))\n",
    "            else:\n",
    "                semi_ads_prob[i].append(semi_ads_c[semi_ads_c['token'].isin([Test_data_split[i][j]])]['LN(P)'].values[0])\n",
    "        else:\n",
    "            semi_ads_prob[i].append(0.0)"
   ]
  },
  {
   "cell_type": "markdown",
   "metadata": {},
   "source": [
    "### Result"
   ]
  },
  {
   "cell_type": "code",
   "execution_count": 33,
   "metadata": {},
   "outputs": [],
   "source": [
    "result = []\n",
    "t_ads, t_nonads, t_semiads = [],[],[]\n",
    "for i in range(len(ads_prob)):\n",
    "    p_ads,p_non_ads,p_semi_ads = np.sum(ads_prob[i]),np.sum(non_ads_prob[i]),np.sum(semi_ads_prob[i])\n",
    "#     print(p_ads,p_non_ads,p_semi_ads)\n",
    "    p_max = max([p_ads,p_non_ads,p_semi_ads])\n",
    "    if(p_max == p_ads):\n",
    "        t_ads.append(Test_data[i])\n",
    "#         print(\"Ads\")\n",
    "    elif(p_max == p_non_ads):\n",
    "        t_nonads.append(Test_data[i])\n",
    "#         print(\"Non-ads\")\n",
    "    else:\n",
    "        t_semiads.append(Test_data[i])\n",
    "#         print(\"Semi-ads\")"
   ]
  },
  {
   "cell_type": "code",
   "execution_count": 34,
   "metadata": {},
   "outputs": [
    {
     "data": {
      "text/plain": [
       "[' 아이린여성복 연청이랑 코디하니 너무 이쁘넹  청바지도 신상  모리CD   베이지 801PT   연청   S M L 문의는 언제든지 다이렉트 amp 카톡 gogo 카톡   irene8478  제주아동복 아동복매장 제주시청아동복 등원룩 제주맘 아동복코디 여름신상 제주아이린 제주 제주도 jeju 제주옷가게 제주도옷가게 제주시청옷가게 데일리 데일리룩 옷스타그램 신상 일상 소통 팔로우 인친 daily dailylook\\n',\n",
       " ' filmphotography\\n',\n",
       " '  책 받았어요    어쨌든 사랑하기로 했다 저자   권희경  상담심리전문가  27년차 심리상담가의 노하우가 담긴 연애와  결혼의 관계   실제 상담 사례를 들고 분석하고 전문가적 의견을 더하는 형식입니다  연인  부부간의 갈등  해결을 다루고 있는 책이예요  지금 사랑때문에 고민하시는 분이나 앞으로 사랑하고 싶은 분들  읽어 보심 좋을듯요  저도 꼼꼼하게 잘  읽어보겠숩니당  제주라 책이 늦게 도착하네요   슬퍼요  어쨌든사랑  연애  결혼  심리학  고민상담   받았다그램   인증샷 5월신간  홍익출판사  hongikbook  홍익서포터즈6기  신간서평   손글씨서포터즈6기  홍익출판사서포터즈6기   서포터즈 캘리그라피  calligraphy  handwriting  jeju  제주영문글씨  제주캘리모임  캘리페포니  callipeponi  한국캘리그라피작가연합  kcau 은주캘리in제주  은주글씨  은주캘리   20200521   changbi insta\\n',\n",
       " 'innisfree x PAZZO     C   innisfree PAZZO 100     tag 2 3 T shirt 5 22 2       innisfree  innisfreetaiwan  innistagram  beautystagram  jeju  lifestyle  skincare  brighteningporecare   brighteningporeserum  PAZZO         C   C \\n',\n",
       " '황혼 twilight 19 10 \\n',\n",
       " ' La ganadora del SORTEO de los nuevos productos de la l nea Jeju es  capuigmarta    Enhorabuena   Contacta con nosotros por mensaje privado  aqu  en Instagram  y te daremos instrucciones Muchas gracias a tod s por participar   Plazo para contactar  48h a partir de la hora de esta publicaci n  sorteo  ziaja  ganadora  sorteoziaja  premio  jeju\\n',\n",
       " ' 하나씩갖춰가는중  고객님취향이 내취향이다 제주도인테리어는 내가좀 guildworks jeju\\n',\n",
       " ' 제주도 날씨랑 배경이 다했다 \\n',\n",
       " ' 아이린여성복 이브T   네이비 옐로우 블랙 화이트 민트 퍼플 스카이 연베이지 핑크 오렌지 브라운 레이뷔스티에   화이트 문의는 언제든지 다이렉트 amp 카톡 gogo 카톡   irene8478  제주아동복 아동복매장 제주시청아동복 등원룩 제주맘 아동복코디 여름신상 제주아이린 제주 제주도 jeju 제주옷가게 제주도옷가게 제주시청옷가게 데일리 데일리룩 옷스타그램 신상 일상 소통 팔로우 인친 daily dailylook\\n',\n",
       " '  Bruce and Lulu cookies  My favorite singer Gilgun  gil gun ordered  Annasugarstory cookies Hope you enjoy it   pastrychef  jeju  custommade  customcookies  bruce  and  lulu  suagrcookies  cookiedesign  pastrycheflife  제주  제주라이프  쿠키디자인\\n',\n",
       " ' 부부의 날 역시 그냥 지나치지않는 우리 사랑꾼 꽃은 언제 받아도 기분 좋당 잘 살아보자 여부야  부부의날  제주도  사랑꾼  제주부부  일상  꽃다발  예뻐  고마워  사랑해   jeju\\n',\n",
       " '   토요일에 하고간 네일   어제는 카톡와서 너무이쁘다며   띠리띠리글리터에 스톤과 햇빛마저 완뵤케  매주 s  휴무 100 예약제   10 00   s  08 00   네일 속눈썹 왁싱 중 원하시는 관리 날짜 시간 성함 연락처 남겨주세요   네일아트 예약시 원하는 디자인 사진은 미리 보내주세용   아트가격문의는 받지 않고 있습니다 손님마다 손상태가 다르기 때문에 직접보고 손님과 상의 후 관리 해 드리고 있습니다   캐릭터 amp 아트는 미리 얘기해주세요   예약시 예약금을 받고 있습니다    강아지 춘삼이가 함께 있습니다  잘 짖기 때문에 혹시 강아지가 무서우신 분들은 미리 말씀 해주시거나 불편하신분들은 참고 해주세요   강자매  강자매네일  아라동네일샵  제주네일샵  제주네일  제주도네일샵  제주도네일  봄네일  젤패디  구제주네일샵  제주네일  네일스타그램  젤네일  드릴케어  포칫글리터  글리터네일  패디아트   여행네일  심플네일  nail  gelnails  구제주네일  제주네일아트  일상  데일리네일  jeju\\n',\n",
       " ' \\n',\n",
       " '   레드 amp 로제타미러도 너무이뻐요   도넛과 물결로 포인뚜포인뚜우    매주 s  휴무 100 예약제   10 00   s  08 00   네일 속눈썹 왁싱 중 원하시는 관리 날짜 시간 성함 연락처 남겨주세요   네일아트 예약시 원하는 디자인 사진은 미리 보내주세용   아트가격문의는 받지 않고 있습니다 손님마다 손상태가 다르기 때문에 직접보고 손님과 상의 후 관리 해 드리고 있습니다   캐릭터 amp 아트는 미리 얘기해주세요   예약시 예약금을 받고 있습니다    강아지 춘삼이가 함께 있습니다  잘 짖기 때문에 혹시 강아지가 무서우신 분들은 미리 말씀 해주시거나 불편하신분들은 참고 해주세요   강자매  강자매네일  아라동네일샵  제주네일샵  제주네일  제주도네일샵  제주도네일  봄네일  젤패디  구제주네일샵  미러파우더네일  물결네일  레드네일  제주네일  네일스타그램  젤네일  드릴케어  패디아트   여행네일  심플네일  nail  gelnails  구제주네일  제주네일아트  일상  데일리네일  jeju\\n',\n",
       " '5월 21일 목요일 메뉴  버섯소불고기  크래미마요꼬마김밥  김밥은 언제나 인기가 많네요 날이 더워지고있어 당분간 김밥은 안보일것같아요  제주관광대학교  구내식당  단체급식  메뉴  대학교  학생식당  교직원식당  제주도  제주  jeju  구내식당그램  학생식당그램  점심스타그램\\n',\n",
       " '아이폰이 아파 과도한 심폐소생술로운명 하였습니다  수리비용이 너무 비싸서 절대로 사고 싶어 산거 아님 에헴  약은약사에게  나도이제  인덕션  아이폰11pro  야간촬영  똥손을금손으로  부탁해\\n',\n",
       " ' 이벤트입니다 설마 지브리 안좋아하는 사람 있나요 팬스잉크에서 블랙워크를 담당하는 마레님 도안입니다  도안당 가격 50 000원에 하고있습니다  늦기전에 예약하세요 타투문의 상담문의는  DM으로 연락주세요 \\n',\n",
       " ' 2020 JEJE FC 축구 팀원을 모집합니다  접수 일정   2020년 05월 21일     모집 대상   도내 대학생 및 제주청년  축구를 잘하지 않아도 괜찮습니다   축구를 하고 싶다는 생각과 열정만 있다면 환영입니다  모집 인원 선착순  상시 모집중이오나   입단 인원이 많을 경우 제한이 있을 수 있음 FC JEJE 만의 장점 제주청년센터 동아리지원사업 연계로  축구선수가 지녀야 할 최상의 상태 제공 도내 다양한 축구 대회 참가 경력  구단주의 전폭적인 지지로 다양한 혜택 이용가능 축구를 통해 친목을 통해  다양한 팀과의 교류 및 인맥 활성화  매주 금 토 일 중 주 1회 이상 축구를 합니다 처음에  JEJE FC  이전  전쓰싸커 는 축구를 그저 좋아하는 사람들의 친목 단체에 불과했지만 앞으로는 더 발전하여 다양한 인원들이 모여 함께 축구할 수 있는 단체로 만들려고 하고 있습니다 FC JEJE 에 관심있는 팀원들은 언제든지 환영입니다 또한  매주 축구만을 하는 것이 아닌  친목 모임을 통해 더욱더 친밀해질 수 있는 축구팀을 만들어 보려고 합니다   Isola PIZZA DAY 축구가 하고싶다  축구를 배우고 싶다  즐겁게 축구를 사람들과 하고 싶다 관심 있는 분들이 계시다면 아래 연락처로 연락해주세요 감사합니다  항상 열심히 하는 FC JEJE 되겠습니다 응원해주세요 회장 양성빈   010 3926 6329부회장 장석호   010 8976 2612구단주 전성환   010 7724 3486\\n',\n",
       " '      JEJU   4                        1 0        350    50    \\n',\n",
       " '   여전히 인기많은 아이보리   깔끔하니 예뻐요  매주 s  휴무 100 예약제   10 00   s  08 00   네일 속눈썹 왁싱 중 원하시는 관리 날짜 시간 성함 연락처 남겨주세요   네일아트 예약시 원하는 디자인 사진은 미리 보내주세용   아트가격문의는 받지 않고 있습니다 손님마다 손상태가 다르기 때문에 직접보고 손님과 상의 후 관리 해 드리고 있습니다   캐릭터 amp 아트는 미리 얘기해주세요   예약시 예약금을 받고 있습니다    강아지 춘삼이가 함께 있습니다  잘 짖기 때문에 혹시 강아지가 무서우신 분들은 미리 말씀 해주시거나 불편하신분들은 참고 해주세요   강자매  강자매네일  아라동네일샵  제주네일샵  제주네일  제주도네일샵  제주도네일  봄네일  젤패디  구제주네일샵  제주네일  네일스타그램  젤네일  드릴케어  패디아트   여행네일  심플네일  nail  gelnails  구제주네일  제주네일아트  일상  데일리네일  jeju\\n']"
      ]
     },
     "execution_count": 34,
     "metadata": {},
     "output_type": "execute_result"
    }
   ],
   "source": [
    "t_ads"
   ]
  },
  {
   "cell_type": "code",
   "execution_count": 35,
   "metadata": {},
   "outputs": [
    {
     "data": {
      "text/plain": [
       "['남는시간  981파크게임장  오락실  981파크오락실  제주도  981  사격  야구  서바이벌  여행  여행에미치다  여행에미치다 제주 jeju  jejuisland  일상  선팔하면맞팔  먹스타그램  ootd  instadaily  instalike  instagood  insta  instagram  life  followforfollowback  fff  following  jeju  jejuisland  jejudo\\n',\n",
       " '펜선을 뒤에 끄적대보기 좀 더 자연스러울때까지 연습 kaeru jeju 인친님  사진 허락도 없이 죄송합니다  제주 협재해수욕장  비양도 jeju  penandwash 어반포레스트울산  내맘대로  어반스케치 기록 일상기록 일기  펜 어반스케치  어반스케쳐스울산  스케치   여행스케치 울산남구  남해 유채꽃 spring  sketch  diary  drawing  usk  lamy  urbansketch urbansketchers  traveldrawing  pendrawing  pen usk lineandwash\\n',\n",
       " ' 20 100 100 w 9 1             100               jeju  jejuisland  trip  제주도  제주            korea\\n',\n",
       " '야외촬영 바다는 참 이뻤지만 너무나 지쳤다  today  jeju  jejuisland  제주도  제주도민 소통  insta  instasize  instababy  instapic  instadaily  instaphoto  instagood  육아  육아소통  연년생  자매스타그램  육아소통  육아스토리  인스타베이비  애스타그램  인스타그램  인스타베이비  소통  인친  2020년\\n',\n",
       " '즉흥으로한라산 등산진짜 저 세상 힘듬    한라산영실코스 한라산 jeju 제주살이 셀스타그램 맞팔 맞팔선팔 맞팔환영 맞팔선팔환영 좋반 맞팔그램 맞팔스타그램 인친 인친환영 소통 오오티디 좋아요반사 ootd좋반 데일리 일상 좋아요 인스타그램  \\n',\n",
       " '노을보고 놀램  jeju  jejuisland  jejudo  제주  제주도  제주도민  제주일상  제주살이  퇴근  노을  일몰  제주노을  해안도로  셀카\\n',\n",
       " 'Jeju Air Boeing 737 8JP HL8336기령 Age 7 Years 9 Months찍은장소 Location Jeju International Airport  CJU 찍은날짜 Date 2020 05 19편명 Flight number 7C612CJU Jeju RSU Yeosu  제주도  제주 제주국제공항  jejuisland  jeju  jejuinternationalairport  비행기 airplane  하늘  구름  항덕  hl8336  제주항공  jejuair  boeing  boeing737  b737  boeing737800  b738  plane  planespotter  aviation  aviation4u  aviationlovers  aviationdaily  aviationgeek  avgeek  aviationphotography\\n',\n",
       " '비숑 그림 주문하셔서 그리고 나서 보니 밥풀때기 같나 했는데   진짜 강아지 이름이 밥풀이였어요  \\n',\n",
       " 'Reposted from  special jejudo  get regrann     세상에 단 하나뿐인 나 엄마라서 엄마답게아들이라서 아들답게학생이라서 학생답게정해진 것은 없어요 있는 그대로의 내 모습이가장  나 다울 때랍니다  오늘도 수고많으셨어요 5월 20일부터 진행하는제주형  생활속거리두기 운동에 동참해주세요  제주  제주도  코로나19  코로나바이러스  이겨내요코로나19  제주형생활속거리두기  코로나극복  제주특별자치도  jeju    regrann\\n',\n",
       " ' jeju  jejuisland  sea  beach  제주도  협재  애월\\n',\n",
       " ' 제주도청근처얼마전에  새로오픈한중국집 화정  짬뽕 먹고옴들어갈때 벽한켠에 진열되있는주류들 같이먹으면 맛이 배가된다나 어쩐다나ㅎㅎ  제주  제주도  jeju  일상  일상스타그램  daily  데일리  데일리그램  일상그램  일상소통  일상스냅  제주도민  제주일상  제주살이  제주스타그램  먹스타  먹스타그램  푸드스타그램  맛집  제주맛집  제주도맛집  제주도민맛집  맛집스타그램  제주도청맛집\\n',\n",
       " ' 981파크  카트 레이싱 981파크레이싱  제주도  981  갤럭시아레나  서바이벌  여행  여행에미치다  여행에미치다 제주 jeju  jejuisland  일상  선팔하면맞팔  먹스타그램  ootd  instadaily  instalike  instagood  insta  instagram  life  followforfollowback  fff  following  l4likes  likeforlikes  jmt\\n',\n",
       " '우리 입에만 맛있으면 어쩌지 했는데아이들도 너무 잘먹어줘서 더 좋았던 곳오랜만에 갔더니 더 맛있다  면사무소\\n',\n",
       " ' 사회적거리두기  사람없는곳찾아다니기  양귀비   파란하늘  flower  bluesky adorable  family  데일리  일상  제주  제주도  봄  제주여행  여행  제주도민  제주핫플  제주핫플레이스 daily  jeju  jejudo  jejuisland  tour  travel  trip\\n',\n",
       " ' 첫줄 와 곱창 미쵸따뤼  부부의날 기념으로 언니한테 애들 맡기고  우정곱창  제주  jeju  서귀포  제주도민일상  제주맘  서귀포맘  서귀포맛집  먹스타그램  먹부림  먹방  먹부림그램  먹방스타그램  맛스타그램  foodstagram  foodgram  instapic  instagood  instafood  일상  일상스타그램\\n',\n",
       " ' 나만의 미니 레터링케이크 작지만 소중하고 특별한 도시락케이크예요   특별한하루를 더욱 더 의미있게 빛내주는 감초같은 역활을 톡톡히 해요 \\n',\n",
       " ' 해먹으면 되지  까짓거  푸슬리  먹고싶었어  제주살이  제주도  jejulife  jeju\\n',\n",
       " ' 제주도도두동 해변 석양이 넘 이뻐서 담아봤네요이쁘다  제주여행  일상  jeju  jejudo  제주석양  제주바다  도두항\\n',\n",
       " '망해버린 앞머리는 자랄 생각이 없으시고 나는 여전히 모지리로 살아가는 중\\n',\n",
       " ' 460일  카멜리아힐 좋다 관광객들 xxxxxxxxxx들 마스크를안끼고다녀 마스크끼고돌아다니다 사람없는곳에서 사진찍기  방문일지 우리가족만 제주 위에 한열팀이 다육지사람들이던데  육아스타그램  아들스타그램  육아  아들바보  황금돼지띠아기  제주아기  제주소통  황금돼지띠   셀카  셀스타그램  선팔  맞팔  데일리  일상  selca  selfie  daily  제주  jeju  dailylook  팔로우  follow  fff  제주도민  운동  헬스타그램  얼스타그램  얼스타\\n',\n",
       " '오늘의 노을  카페도두는 노일 맛 집  한치철이 다나오나봐요 한치배가 많이 나와 있네요 ㅎㅎ다들 코로나 조심하시고 노을 구경 오세요 \\n',\n",
       " '너무 예뻤다 그랬다 \\n',\n",
       " '골프 1도 모르는데 골프장사진경력만 꽉찬3년차드뎌 한계가 왔다  나다예골프아카데미  도와줘요 등록시급\\n',\n",
       " '내가 온 오름중에 제일 좋았다 \\n',\n",
       " '5월20일수요일  돼지갈비김치찜   제주관광대학교  구내식당  단체급식  메뉴  대학교  학생식당  교직원식당  제주도  제주  jeju  구내식당그램  학생식당그램  점심스타그램\\n',\n",
       " '나홀로 여행중 명랑스낵 진짜 가보고싶었는데오늘은 성공  한치튀김이 인생튀김이다 꼭 가보셔요 제주  제주여행  떡볶이  명랑스낵  한치튀김 한림읍  카페  카페투어  jeju  jejuisland  travel  tourism\\n',\n",
       " '동디션 성공해서 신난 집사를 보는 고먐미들     왜저러냐옹 insta catskittens cutecatplus  cats of instagram kittens today ladbibleoriginals malaikatkucing Sweetcatonline worldwide meowdels loeygram  horange gram  scottishfold  catstargram  persian  british  조이네로이  로호남매  서울  제주  여행  trip  travel  jeju  yutube  일상  daily  유튜버  고양이  meow  daily  아기고양이  육묘일기\\n',\n",
       " ' 해질녘 그저 바라보는 시간  제주  제주도  jeju  jejulife  일상  daliy  하늘  구름  바다  풍경  동네산책  마실다니기  오늘의노을  해질녘  sunset  20200521\\n',\n",
       " ' 빨간꽃 노란꽃 꽃밭 가득 피어도 하얀 나비 꽃 나비 담장위에 날아도 따스한 봄바람이 불고 또 불어도 미싱은 잘도도네 돌아가네 흰구름 솜구름 탐스러운 애기구름 짧은쌰쓰 짧은 치마 뜨거운 여름 소금땀 비지땀 흐르고 또 흘러도 미싱은 잘도 도네 돌아가네 저 하늘엔 별들이 밤새빛나고 찬바람 소슬바람 산 너머 부는 바람 간밤에 편지 한장 적어 실어 보내고 낙엽은 떨어지고 쌓이고 또 쌓여도 미싱은 잘도 도네 돌아가네 흰 눈이 온세상에 소복소복 쌓이면 하얀 공장 하얀 불빛 새하얀 얼굴들 우리네 청춘이 저물고 저물도록 미싱은 잘도 도네 돌아가네 공장엔 작업등이 밤새 비추고 빨간 꽃노란 꽃 꽃밭 가득피어도 하얀 나비 꽃나비 담장위에 날아도 따스한 봄바람이 불고 또 불어도 미싱은 잘도 도네 돌아가네 미싱은 잘도 도네 돌아가네  지구달리기   지구달리기 2020 제주  대한민국  jeju  제주여행  제주올레  올레길  제주맛집  서귀포맛집  세계여행  세계일주  여행  자유여행  여행스냅  여행스타그램  여행이좋다  여행에미치다  travel  travelgram  일상\\n',\n",
       " ' 김녕  나들이김녕 찍고 월정리 찍고세화해변까지 쭉 달려간식 입에 물고 발 담그고 오기  5월의 제주는 천국   신혼  부부  날씨좋은날  드라이브  데이트    산책  김녕해수욕장    월정리  세화해변  제주  제주여행  제주라이프    일상  일상스타그램 hangout  hangingout  beach  seaside  seashore    shinydays  reginaandluke    jeju  jejulife    travel  tour  trip  daily  instadaily\\n',\n",
       " '  술먹고 퉁퉁부어서취중서바이벌땀 너무 많이났지만동심으로 돌아간느낌그래두 일등했쥐 981파크  제주도  981  갤럭시아레나  서바이벌  여행  여행에미치다  여행에미치다 제주 jeju  jejuisland  일상  선팔하면맞팔  먹스타그램  ootd  instadaily  instalike  instagood  insta  instagram  life  followforfollowback  fff  following  l4likes  likeforlikes  jmt']"
      ]
     },
     "execution_count": 35,
     "metadata": {},
     "output_type": "execute_result"
    }
   ],
   "source": [
    "t_nonads"
   ]
  },
  {
   "cell_type": "code",
   "execution_count": 36,
   "metadata": {},
   "outputs": [
    {
     "data": {
      "text/plain": [
       "['엄마 그거무냐 혼자묵을꼬냐  \\n',\n",
       " ' 한우스지입고완료 스지수육 오늘부터 가능해요 맛있는 안주에 술한잔 어때요 제주특별자치도 제주시 구좌읍월정 1길 54 11   히츠야 064 783 8891  매일 12 00 00 00브레이크타임 15 00 17 00매주 월요일휴무\\n',\n",
       " 'May\\n',\n",
       " '성공적 조과   제주 jeju 마라도 긴꼬리벵에돔  벵에돔  travel  낚시  도시어부 다이와 dawa\\n',\n",
       " ' 애월  바이크스타그램  바이크  바이크투어  제주도투어  제주도바이크여행  yzfr3  r3  제주  수원  쇼에이헬멧  라이더  motorcycle  애월해안도로  여성라이더  여라  jeju  최고\\n',\n",
       " '타르트 명소라고 하는 곳     제주선물세트  제주공항카페  제주선물  타르트맛집  jeju  제주도선물세트  제주도타르트  제주핫플  제주도맛집  제주카페  제주도여행  jejudo  제주도카페  섬타르  제주타르트  제주도선물  제주맛집  제주공항근처카페\\n',\n",
       " ' 우두커니 서있는 외돌개 외돌개는 해안산책로를따라서 10분정도 가다보면나오는 제주도의 대표적 관광지입니다 서귀포시내에 위치해있어서다녀오기도 너무나 좋은곳이라는 사실 맑은날에 가면 청명한 바다와 함께어우러지는 외돌개의 모습이정말 웅장합니다 돌과바람 호스텔에서 차로 5분거리에위치해있는 정말 구경가기 넘 좋은 관광지 외돌개였습니다  Photo By 으니스텝  \\n',\n",
       " ' 목요일 텍스처 마감 합니다  한가한 목요일  이것 저것 매장 내 정리를 하고나름대로 재정비에 시간을 가졌습니다  진한 마틸다 시리즈로 당 빠 짝 충전하셨길 바래요  모두 고생 많으셨어요  오늘도 텍스처를 찾아주신 모든분들정말 감사합니다  내일도 텍스처에서 만나요  \\n',\n",
       " ' jeju  제주도  애월  한담해변  sunset\\n',\n",
       " ' jeju  한경면  조수리  카페  카페스타그램  토템오어\\n',\n",
       " ' 오늘도 롱리브를 찾아주셔서 감사합니다 편안한 밤 되시길 바랍니다  굿나잇             \\n',\n",
       " '섬타르의 타르트는 정말 인정해야겠어요         제주선물세트  제주도카페  제주도맛집  제주도선물  jeju  제주도여행  제주공항근처카페  jejudo  제주카페  제주선물  제주공항카페  제주핫플  제주맛집  섬타르  제주도선물세트  제주타르트  제주도타르트  타르트맛집\\n',\n",
       " ' 발이아픈딸에게 엄마가 하는말   그거 전자발찌냐    ㅋㅋㅋㅋㅋㅋㅋㅋㅋㅋㅋㅋㅋㅋ할말을잃었다\\n',\n",
       " ' Soin Coffee Soin  배려 미소   soin coffee화 휴무  11시 22시 오늘 방문한 손님 넌 인형이니  너무 귀여운거 아냐 ㅋ soin  soincoffee  cafesoin  소인커피  카페소인  제주카페  노형카페  제주감성카페  제주여행  jeju  비숑\\n',\n",
       " ' 회와 향토음식을 동시에 동문올레수산 064 752 5657 제주 제주시 관덕로14길 10 제주공항 10분거리 동문시장 내 위치 단체석완비 회 즉석에서 떠드려요  수산집이라 1만원  저렴해요 향토음식 전메뉴 청결 푸짐 맛있게 대접합니다  동문올레수산  동문시장맛집  제주동문시장맛집  제주도맛집  제주여행  제주도여행  제주공항근처맛집  제주공항맛집 제주도핫플  제주핫플  제주핫플레이스  제주가볼만한곳  애월술집  동문시장  제주일상  제주관광  이도동맛집  제주도  제주바다  제주살이  산방산  jeju  제주횟집추천  노형동맛집  제주여행코스  제주도  제주도맛집추천  실시간제주  제주실시간\\n',\n",
       " ' 김녕회관open  19 00bar  amp  pub whisky제주시 김녕로 170  김녕장 게스트하우스  제주시 김녕로 19길55 김녕  김녕술집  제주술집  구좌술집  함덕  월정리  혼술  와인바  펍  pub  wine  winebar  bar  김녕성세기해변  술집  술스타그램  김녕회관  제주  jeju  김녕펍  제주펍  제주도술집  김녕와인바  제주와인바  김녕장게스트하우스  김녕장  gimnyeong  gimnyeonghall\\n',\n",
       " ' c ome  come  hanlim  jeju  cafe  chill\\n',\n",
       " ' 제주여행의 꽃 필수코스 동문올레수산 064 752 5657 제주 제주시 관덕로14길 10 동문시장 내 위치 제주공항 10분거리 공영주차장 이용 단체석완비 향토음식 전메뉴 회 즉석에서 떠드려요 수산집이라 1만원  저렴해요 후회 없는 맛을 보여드리겠습니다  동문시장맛집  제주동문시장맛집  제주도맛집  제주여행  제주도여행  제주공항근처맛집  제주공항맛집  동문올레수산 제주도민맛집  애월해안도로맛집  곽지맛집  애월횟집  제주밥집  서귀포맛집  동문시장맛집추천  산방산  jeju  제주도핫플  제주핫플  제주핫플레이스  제주시맛집  제주시횟집  제주횟집  제주도횟집  제주갈치조림  제주고등어회  제주먹거리  제주맛집추천\\n',\n",
       " ' 오늘도 찾아주셔서 감사합니다내일도 맛있는 음식과 함께 만나뵙겠습니다편안한 저녁되세요  솔사랑AM11 00 PM8 30마지막주문 PM8 00서귀포시 이어도로796 강정동 064 739 3885  솔사랑 돌담길 옆모습은처음 나도잘안봄  솔사랑제주  퇴근이다 \\n',\n",
       " '상추가 되긴 하는구나 쑥쑥 자라라  상추  greenfingers  jeju\\n',\n",
       " ' 한라산이  가장  잘 보이는 돌과바람 호스텔로 제주 한달살이 오셔요 돌과바람 호스텔은 장기 여행객분들을 위해보름살이 그리고 한달살이 이렇게장기숙박도 제공하고있습니다 요새 제주 한달살이가 정말 핫하죠 알차고 행복한 한달살이를 위해서는숙소 선택이 정말 중요한거같아요 언제나 공용주방에서 취사도 가능하고아침에는 식빵 잼 시리얼 우유등 조식도 제공해드려요 또한 언제나 깔끔한 방 유지를 위해서매일매일 청결하게 방청소를 해드립니다 보증금 없고 관리비도 없어서부과적으로 돈 나올걱정은 No No 샴푸 바디워시 수건 생수 드라이기상시 비치해놓고 제공해드리고있어요 인스타 DM이나 전화 064 732 3210로 문의 주세요 벌써 많은 분들이 찾아주셔서 방이 얼마 남지 않았습니다  어서 문의주세요 돌과바람 호스텔에서 함께 한달살이할 가족분들을 언제나 기다리겠습니다 \\n',\n",
       " '제주 인생밥집  OPEN   11 00  CLOSED   17 00 브레이크타임 없어요 싱싱한 해물과 신선한 야채로 그날 준비한 재료가 소진되면 조기마감 합니다   전복해물볶음밥   전복물회   전복딱새우장 정식 사는게니나노    인생밥집문의는 010 6501 5073주소는 제주시 한림읍 문교길6   무료 공영 주차장 위치    제주시 한림읍 한림리 1197 4  제주시 한림읍 한림리 1198 3  제주시 한림읍 한림리 943 9 걸어서 2분이내 거리에요  제주맛집 제주시맛집 서귀포맛집 한림맛집 협재맛집 애월맛집 금능맛집 성산맛집 월정리맛집 함덕맛집 섭지코지맛집 곽지맛집 곽지과물맛집 세화맛집 제주공항맛집 제주여행 제주도여행 jeju jejudo 제주도맛집 중문맛집 제주도민맛집 흑돼지맛집  전복장  딱새우장  제주혼밥  제주도혼밥\\n',\n",
       " '  제주도 56일차    오늘은 일몰이 살랑이며 반짝인 날이에요오늘은 늦게늦게 일어났어요그리고 제주인스타피드를 좀 채우다가 샤워를 하고 밖을 나섰죠이미 세상이 너무 예쁜 파란색이었어요오늘 일몰은 무조건 아름답겠다는 생각이 들었죠그래서 게스트분과 하버하우스 바로 옆바다로 나가 계속 소리를 내 감탄을 하며 일몰의 광경을 바라봤어요계속 발걸음을 떼지 못하며 한걸음씩 동네 단골집 해피누들로 향했어요한나언니가 3일내내 간 VIP로 등극해서 쌀국수집에서 소영언니와 지나가시다 픽업되신 게스트분까지 넷이서 쌀국수에 막걸리 한잔을 할 수 있었어요그리고 언제나처럼 게스트분들과 이런저런 이야기를 하다 1시가 넘어 퇴근했답니다\\n',\n",
       " '무거워서가아니라 눈이 부신거지   제주도 jeju  제주여행 제주신라호텔  shillajeju  adultpool\\n',\n",
       " '뭔가 잘못되도 단단히 잘 못 된 것 같아 \\n']"
      ]
     },
     "execution_count": 36,
     "metadata": {},
     "output_type": "execute_result"
    }
   ],
   "source": [
    "t_semiads"
   ]
  },
  {
   "cell_type": "code",
   "execution_count": null,
   "metadata": {},
   "outputs": [],
   "source": []
  }
 ],
 "metadata": {
  "kernelspec": {
   "display_name": "Python 3",
   "language": "python",
   "name": "python3"
  },
  "language_info": {
   "codemirror_mode": {
    "name": "ipython",
    "version": 3
   },
   "file_extension": ".py",
   "mimetype": "text/x-python",
   "name": "python",
   "nbconvert_exporter": "python",
   "pygments_lexer": "ipython3",
   "version": "3.7.4"
  }
 },
 "nbformat": 4,
 "nbformat_minor": 4
}
