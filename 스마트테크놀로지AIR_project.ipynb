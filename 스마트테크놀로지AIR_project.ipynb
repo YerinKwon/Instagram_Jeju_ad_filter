{
 "cells": [
  {
   "cell_type": "code",
   "execution_count": 349,
   "metadata": {},
   "outputs": [],
   "source": [
    "import numpy as np\n",
    "import pandas as pd\n",
    "import csv\n",
    "import re\n",
    "import math"
   ]
  },
  {
   "cell_type": "markdown",
   "metadata": {},
   "source": [
    "### Preprocessing"
   ]
  },
  {
   "cell_type": "code",
   "execution_count": 350,
   "metadata": {},
   "outputs": [],
   "source": [
    "#patterns for all the other unicodes except for korean,english,and number\n",
    "en_ko_pattern = re.compile(\"[\"\n",
    "        u\"\\U00000021-\\U0000002F\"\n",
    "        u\"\\U0000003A-\\U00000040\"\n",
    "        u\"\\U0000005B-\\U00000060\"\n",
    "        u\"\\U0000007B-\\U000010ff\"\n",
    "        u\"\\U00001113-\\U00001160\"\n",
    "        u\"\\U00001176-\\U000011A7\"\n",
    "        u\"\\U000011C3-\\U00003130\"\n",
    "        u\"\\U0000314f-\\U0000ABFF\"\n",
    "        u\"\\U0000D7A4-\\U0010FFFF\"\n",
    "                           \"]+\", flags=re.UNICODE)"
   ]
  },
  {
   "cell_type": "code",
   "execution_count": 351,
   "metadata": {},
   "outputs": [],
   "source": [
    "#replace meaningless unicodes, hash, and html tags\n",
    "insta_contents = []\n",
    "with open('jeju.csv','r') as f:\n",
    "    csv_reader = csv.reader(f)\n",
    "    next(csv_reader)\n",
    "    for line in csv_reader:\n",
    "        content = line[2].replace('#',' ').replace('&nbsp;',' ').replace('&gt;',' ').replace('&lt;',' ')\n",
    "        content = en_ko_pattern.sub(r' ',content)\n",
    "        insta_contents.append(content)"
   ]
  },
  {
   "cell_type": "code",
   "execution_count": 352,
   "metadata": {},
   "outputs": [],
   "source": [
    "#remove duplicates\n",
    "insta_contents = list(dict.fromkeys(insta_contents))"
   ]
  },
  {
   "cell_type": "code",
   "execution_count": 353,
   "metadata": {},
   "outputs": [],
   "source": [
    "with open('jeju_contents.csv','w') as f:\n",
    "    for content in insta_contents:\n",
    "        f.write(content+'\\n')"
   ]
  },
  {
   "cell_type": "markdown",
   "metadata": {},
   "source": [
    "### Tagging\n",
    "따로 광고인지 아닌지 태그가 되어있지 않은 데이터이기 때문에 트레이닝을 위해서 수작업으로 태깅을 했다."
   ]
  },
  {
   "cell_type": "code",
   "execution_count": 354,
   "metadata": {},
   "outputs": [],
   "source": [
    "ads, non_ads, semi_ads, reviews = [],[],[],[]\n",
    "with open('jeju_contents_tags.csv','r') as f:\n",
    "    csv_reader = csv.reader(f)\n",
    "    for line in csv_reader:\n",
    "        if(line[1] == '0'):\n",
    "            non_ads.append(line[0])\n",
    "        elif(line[1] == '1'):\n",
    "            ads.append(line[0])\n",
    "        elif(line[1] == '2'):\n",
    "            semi_ads.append(line[0])"
   ]
  },
  {
   "cell_type": "code",
   "execution_count": 355,
   "metadata": {},
   "outputs": [
    {
     "data": {
      "text/plain": [
       "(86,\n",
       " ['사이즈가자꾸깨지는탓에 바로픽업이 힘들어져서 속상하네용  내일또 신상입고되니 많이찾아와주세요    2헨느  제주옷가게  아동의류  아동의류쇼핑몰  구남동옷가게  2reine  jeju  등원룩  문센룩  아동데일리룩  쥬니어의류쇼핑몰  링크클릭 ',\n",
       "  '오늘 하루도 감사드려요 신상하러 못올라갔지만  거래처신상보면서 신상추가 하고있어요  사진으로만 보고 주문하다보니  핀이랑 머리띠가 좀많이들어왔지만 다 이쁘다고 해주셔서 감사해요 ',\n",
       "  ' 우리아이 생일 키즈홈파티 대여 오픈 해요  첫번째 컨셉인 다이너소어파티 입니다  집에서도 다양한 컨셉으로 파티를 즐기실수 있도록준비해 드릴꺼에요  다빌리죠 상호명에 맞게 첫컨셉 잡은대로 찾아가는 중이에요  부족하지만 항상 예쁘다 해주셔서 감사해요   jeju 제주 다빌리죠 Dabillijyo 홈파티 제주카페 제주여행 제주파티 제주공항근처 제주돌스냅 제주웨딩스냅 제주파티샵 제주맘 제주아이 제주에서 제주한달살기 제주아기 제주라이프 제주커플 hbd 제주프로포즈 레터링풍선  제주풍선 제주파티소품  키즈파티 제주육아 헬륨풍선 꽃풍선 제주꽃풍선 제주이벤트'])"
      ]
     },
     "execution_count": 355,
     "metadata": {},
     "output_type": "execute_result"
    }
   ],
   "source": [
    "#제주 여행과 관련이 없는 광고 - 주로 소재지만 제주인 경우 (ex. 제주 타투가게, 제주 옷가게, 제주 미용실...)\n",
    "len(ads), ads[:3]"
   ]
  },
  {
   "cell_type": "code",
   "execution_count": 356,
   "metadata": {},
   "outputs": [
    {
     "data": {
      "text/plain": [
       "(569,\n",
       " ['누워서 한손으로  코야 잡아보기  부시럭부시럭  소리나서 놀랐더니유쨔니가 코야 만지며 놀고있더라구요 일어나면 조용히 놀고 있는 쪼꼬미틴구 ',\n",
       "  ' 로즈데이 챙겨주는   ',\n",
       "  ' Social Distancing   So In Gook Theme Park  2019 05 12 reminiscing  Jeju  tbt'])"
      ]
     },
     "execution_count": 356,
     "metadata": {},
     "output_type": "execute_result"
    }
   ],
   "source": [
    "#광고가 아닌 모든 게시글 (ex. 여행 후기, 일상, 투어)\n",
    "len(non_ads), non_ads[:3]"
   ]
  },
  {
   "cell_type": "code",
   "execution_count": 357,
   "metadata": {},
   "outputs": [
    {
     "data": {
      "text/plain": [
       "(127,\n",
       " ['다이빙   뒷풀이 또한 완벽했던 우리들   다음주에 또 만난다는건 안비밀   율강사가 육지로 날아갈게요    제주 서귀포시 칠십리로 490 01079170079  01038074475 Kakaotalk  yul0079 율랜드   율강사  현강사  체험다이빙  율랜드스쿠버  oceantag  스쿠버교육  펀다이빙  보트다이빙  야간다이빙  섶섬  제주율랜드  jeju  jejuisland  제지기오름  보목포구  제주도가볼만한곳  서귀포스쿠버  오픈워터교육  제주도스킨스쿠버  제주도스쿠버다이빙  서귀포스쿠버교육 오산다이브리조트  신세계다이버  오산리이장님  밥식혜감사합니다',\n",
       "  ' jeju  applemango  flake  빙수먹기  좋은날날씨가 습해서 빙수가 땡기는날100  제주 애플망고빙수 드시러 오세요  제주망고 애플망고 jeju mangoflake  villadeato     제주빙수 빙수스타그램 빙수맛집 빙수그램 맛있는 망고 달코롬 망고빙수 제주도 서귀포시 이중섭거리 올레시장 빙수   망빙 제주는 여름날씨 망고스무디 mango 이중섭거리 제주애플망고빙수',\n",
       "  '게스트분들이랑 제주 포토스팟 갯깍주상절리대 다녀왔어요       소규모파티게하 레스고 소등없는게하 모두동의하에 노래방  보드게임  술게임 사정없이 하는게하 이렇게 놀다가 해뜨고 자도 난모룸  실제로 여행 못하신분들 많이봄  물론 써니도 하루가 사라지는 마법 혼자와도 우리는 위아더월드 귀찮을 정도로 말걸음 조식 원하시면해드림 써니표샌드위치와 갓뚜기라면중 택 1 제주도 요지 애월과 협재사이에 있는 게하 곽지해수욕장5분  협재 애월10분 만능버스 202번 타는 정류장 집앞 2분거리에 있음 공항에서 서귀포까지 다감 2박하시면 피크닉세트 빌려드림 번거롭게 짐챙길필요없이 써니가 다 준비해드림  서핑  패들보드 바다놀이기구등 원하시면 시중가보다 저렴하게 연결해드림 같이가자고 하시면 못이기는척 같이가드림 쥔장이 요리 조금 한다고하니 재료 사오시면 다 해드림 맛보장은 못ㅋ함ㅋ 나만맛있음 야외공간 마련 야외에서 술먹으면 절대 안취함ㅎ ㅎ주량 늘리고싶으면 커먼  제주도 술로시작해서 술로 마무리해드림 제주도에 아는언니  아는동생 아는누나  아는친구 되어드림 두번째 방문부터 써니게하는 제주도 내집이되는 마ㅋ법ㅋ여기스탭추가여  게스트왈 돈내고일해요 생일이나 축하할일 있음 격하게 원래 아는사람처럼 같이 축하해드림 대신 케익은 본인이 직접사오긔 쾌적한 환경제공 게하 깨끗하고 침구 어마무시하게 깨끗  세면도구 다있음  야박하게 수건 한장이라니  무조건 두장 말잘하면 세장드림 2년차 게하인데 재방문율 높음 일주일에 한번씩 두달에 20일 온 사람도 있음 mt 기분 내고 싶으신 분들 오세욬ㅋㅋㅋㅋㅋ 30대가 20대로 바뀌는매직  제주써니하우스 아는언니네 써니하우스 소규모파티 소규모파티게하'])"
      ]
     },
     "execution_count": 357,
     "metadata": {},
     "output_type": "execute_result"
    }
   ],
   "source": [
    "#제주 여행과 관련이 있는 광고 (ex. 민박, 게스트하우스, 스쿠버다이빙, 카페)\n",
    "len(semi_ads), semi_ads[:3]"
   ]
  },
  {
   "cell_type": "markdown",
   "metadata": {},
   "source": [
    "### Tokenizing"
   ]
  },
  {
   "cell_type": "code",
   "execution_count": 358,
   "metadata": {},
   "outputs": [],
   "source": [
    "from konlpy.tag import Okt\n",
    "\n",
    "okt = Okt()"
   ]
  },
  {
   "cell_type": "code",
   "execution_count": 359,
   "metadata": {},
   "outputs": [],
   "source": [
    "#마지막 5개씩은 테스트 데이터셋\n",
    "ads_LCK, ads_Lth3 = [],[]\n",
    "for i in range(80):\n",
    "    for j in ads[i].split():\n",
    "        ads_LCK+= okt.morphs(j)\n",
    "        \n",
    "for i in range(len(ads_LCK)):\n",
    "    if len(ads_LCK[i]) >1:\n",
    "        ads_Lth3.append(ads_LCK[i])\n",
    "        \n",
    "        \n",
    "non_ads_LCK, non_ads_Lth3 = [],[]\n",
    "for i in range(175):\n",
    "    for j in non_ads[i].split():\n",
    "        non_ads_LCK+= okt.morphs(j)\n",
    "        \n",
    "for i in range(len(non_ads_LCK)):\n",
    "    if len(non_ads_LCK[i]) >1:\n",
    "        non_ads_Lth3.append(non_ads_LCK[i])\n",
    "        \n",
    "        \n",
    "semi_ads_LCK, semi_ads_Lth3 = [],[]\n",
    "for i in range(60):\n",
    "    for j in semi_ads[i].split():\n",
    "        semi_ads_LCK+= okt.morphs(j)\n",
    "        \n",
    "for i in range(len(semi_ads_LCK)):\n",
    "    if len(semi_ads_LCK[i]) >1:\n",
    "        semi_ads_Lth3.append(semi_ads_LCK[i])"
   ]
  },
  {
   "cell_type": "code",
   "execution_count": 360,
   "metadata": {},
   "outputs": [
    {
     "data": {
      "text/plain": [
       "(['사이즈', '자꾸', '깨지는', '바로', '픽업', '힘들어져서'],\n",
       " ['누워서', '한손으로', '코야', '잡아보기', '부시럭부시럭', '리나'],\n",
       " ['다이빙', '풀이', '또한', '완벽했던', '우리', '다음주'])"
      ]
     },
     "execution_count": 360,
     "metadata": {},
     "output_type": "execute_result"
    }
   ],
   "source": [
    "ads_Lth3[:6],non_ads_Lth3[:6],semi_ads_Lth3[:6]"
   ]
  },
  {
   "cell_type": "code",
   "execution_count": 361,
   "metadata": {},
   "outputs": [
    {
     "data": {
      "text/plain": [
       "(3663, 3703, 3846)"
      ]
     },
     "execution_count": 361,
     "metadata": {},
     "output_type": "execute_result"
    }
   ],
   "source": [
    "len(ads_Lth3),len(non_ads_Lth3),len(semi_ads_Lth3)"
   ]
  },
  {
   "cell_type": "markdown",
   "metadata": {},
   "source": [
    "### Probability\n",
    "\n",
    "수업시간에 했던 방식과 동일한 방식으로 각 토큰의 확률을 구해보았다. "
   ]
  },
  {
   "cell_type": "code",
   "execution_count": 362,
   "metadata": {},
   "outputs": [],
   "source": [
    "ads_LCKF = pd.DataFrame(ads_Lth3, columns=['token'])\n",
    "ads_c = pd.DataFrame(ads_LCKF.groupby(['token'])['token'].count()).rename(columns = {'token':'count'}).reset_index()\n",
    "ads_c['add one'] = ads_c['count']+1\n",
    "ads_c['Prob'] = ads_c['add one']/ads_c['add one'].sum()\n",
    "ads_c['LN(P)'] = np.log(ads_c['Prob'])\n",
    "\n",
    "non_ads_LCKF = pd.DataFrame(non_ads_Lth3, columns=['token'])\n",
    "non_ads_c = pd.DataFrame(non_ads_LCKF.groupby(['token'])['token'].count()).rename(columns = {'token':'count'}).reset_index()\n",
    "non_ads_c['add one'] = non_ads_c['count']+1\n",
    "non_ads_c['Prob'] = non_ads_c['add one']/non_ads_c['add one'].sum()\n",
    "non_ads_c['LN(P)'] = np.log(non_ads_c['Prob'])\n",
    "\n",
    "semi_ads_LCKF = pd.DataFrame(semi_ads_Lth3, columns=['token'])\n",
    "semi_ads_c = pd.DataFrame(semi_ads_LCKF.groupby(['token'])['token'].count()).rename(columns = {'token':'count'}).reset_index()\n",
    "semi_ads_c['add one'] = semi_ads_c['count']+1\n",
    "semi_ads_c['Prob'] = semi_ads_c['add one']/semi_ads_c['add one'].sum()\n",
    "semi_ads_c['LN(P)'] = np.log(semi_ads_c['Prob'])"
   ]
  },
  {
   "cell_type": "markdown",
   "metadata": {},
   "source": [
    "아래는 각 묶음별로 가장 출현빈도가 높은 단어들을 5개씩 나타낸 결과이다.\n",
    "해시태그 jeju로 검색한 결과이기 때문에 제주, jeju, 제주도 등의 단어가 세 묶음 모두에게서 자주 발견됨을 관찰할 수 있다.\n",
    "하지만 공통적으로 많이 나타나는 토큰은 세 집단을 구별하는데 큰 의미가 없기 때문에 이를 제거하여 동일한 과정을 다시 수행해보았다."
   ]
  },
  {
   "cell_type": "code",
   "execution_count": 363,
   "metadata": {},
   "outputs": [
    {
     "data": {
      "text/html": [
       "<div>\n",
       "<style scoped>\n",
       "    .dataframe tbody tr th:only-of-type {\n",
       "        vertical-align: middle;\n",
       "    }\n",
       "\n",
       "    .dataframe tbody tr th {\n",
       "        vertical-align: top;\n",
       "    }\n",
       "\n",
       "    .dataframe thead th {\n",
       "        text-align: right;\n",
       "    }\n",
       "</style>\n",
       "<table border=\"1\" class=\"dataframe\">\n",
       "  <thead>\n",
       "    <tr style=\"text-align: right;\">\n",
       "      <th></th>\n",
       "      <th>token</th>\n",
       "      <th>count</th>\n",
       "      <th>add one</th>\n",
       "      <th>Prob</th>\n",
       "      <th>LN(P)</th>\n",
       "    </tr>\n",
       "  </thead>\n",
       "  <tbody>\n",
       "    <tr>\n",
       "      <th>1656</th>\n",
       "      <td>제주</td>\n",
       "      <td>138</td>\n",
       "      <td>139</td>\n",
       "      <td>0.025063</td>\n",
       "      <td>-3.686358</td>\n",
       "    </tr>\n",
       "    <tr>\n",
       "      <th>1120</th>\n",
       "      <td>네일</td>\n",
       "      <td>56</td>\n",
       "      <td>57</td>\n",
       "      <td>0.010278</td>\n",
       "      <td>-4.577781</td>\n",
       "    </tr>\n",
       "    <tr>\n",
       "      <th>288</th>\n",
       "      <td>jeju</td>\n",
       "      <td>54</td>\n",
       "      <td>55</td>\n",
       "      <td>0.009917</td>\n",
       "      <td>-4.613499</td>\n",
       "    </tr>\n",
       "    <tr>\n",
       "      <th>1657</th>\n",
       "      <td>제주도</td>\n",
       "      <td>46</td>\n",
       "      <td>47</td>\n",
       "      <td>0.008475</td>\n",
       "      <td>-4.770685</td>\n",
       "    </tr>\n",
       "    <tr>\n",
       "      <th>354</th>\n",
       "      <td>ng</td>\n",
       "      <td>38</td>\n",
       "      <td>39</td>\n",
       "      <td>0.007032</td>\n",
       "      <td>-4.957271</td>\n",
       "    </tr>\n",
       "  </tbody>\n",
       "</table>\n",
       "</div>"
      ],
      "text/plain": [
       "     token  count  add one      Prob     LN(P)\n",
       "1656    제주    138      139  0.025063 -3.686358\n",
       "1120    네일     56       57  0.010278 -4.577781\n",
       "288   jeju     54       55  0.009917 -4.613499\n",
       "1657   제주도     46       47  0.008475 -4.770685\n",
       "354     ng     38       39  0.007032 -4.957271"
      ]
     },
     "execution_count": 363,
     "metadata": {},
     "output_type": "execute_result"
    }
   ],
   "source": [
    "ads_c.sort_values(by=['add one'], ascending=False).iloc[:5]"
   ]
  },
  {
   "cell_type": "code",
   "execution_count": 364,
   "metadata": {},
   "outputs": [
    {
     "data": {
      "text/html": [
       "<div>\n",
       "<style scoped>\n",
       "    .dataframe tbody tr th:only-of-type {\n",
       "        vertical-align: middle;\n",
       "    }\n",
       "\n",
       "    .dataframe tbody tr th {\n",
       "        vertical-align: top;\n",
       "    }\n",
       "\n",
       "    .dataframe thead th {\n",
       "        text-align: right;\n",
       "    }\n",
       "</style>\n",
       "<table border=\"1\" class=\"dataframe\">\n",
       "  <thead>\n",
       "    <tr style=\"text-align: right;\">\n",
       "      <th></th>\n",
       "      <th>token</th>\n",
       "      <th>count</th>\n",
       "      <th>add one</th>\n",
       "      <th>Prob</th>\n",
       "      <th>LN(P)</th>\n",
       "    </tr>\n",
       "  </thead>\n",
       "  <tbody>\n",
       "    <tr>\n",
       "      <th>1860</th>\n",
       "      <td>제주</td>\n",
       "      <td>117</td>\n",
       "      <td>118</td>\n",
       "      <td>0.020268</td>\n",
       "      <td>-3.898714</td>\n",
       "    </tr>\n",
       "    <tr>\n",
       "      <th>304</th>\n",
       "      <td>jeju</td>\n",
       "      <td>98</td>\n",
       "      <td>99</td>\n",
       "      <td>0.017004</td>\n",
       "      <td>-4.074279</td>\n",
       "    </tr>\n",
       "    <tr>\n",
       "      <th>1654</th>\n",
       "      <td>여행</td>\n",
       "      <td>75</td>\n",
       "      <td>76</td>\n",
       "      <td>0.013054</td>\n",
       "      <td>-4.338666</td>\n",
       "    </tr>\n",
       "    <tr>\n",
       "      <th>1861</th>\n",
       "      <td>제주도</td>\n",
       "      <td>68</td>\n",
       "      <td>69</td>\n",
       "      <td>0.011852</td>\n",
       "      <td>-4.435293</td>\n",
       "    </tr>\n",
       "    <tr>\n",
       "      <th>1084</th>\n",
       "      <td>그램</td>\n",
       "      <td>48</td>\n",
       "      <td>49</td>\n",
       "      <td>0.008416</td>\n",
       "      <td>-4.777579</td>\n",
       "    </tr>\n",
       "  </tbody>\n",
       "</table>\n",
       "</div>"
      ],
      "text/plain": [
       "     token  count  add one      Prob     LN(P)\n",
       "1860    제주    117      118  0.020268 -3.898714\n",
       "304   jeju     98       99  0.017004 -4.074279\n",
       "1654    여행     75       76  0.013054 -4.338666\n",
       "1861   제주도     68       69  0.011852 -4.435293\n",
       "1084    그램     48       49  0.008416 -4.777579"
      ]
     },
     "execution_count": 364,
     "metadata": {},
     "output_type": "execute_result"
    }
   ],
   "source": [
    "non_ads_c.sort_values(by=['add one'], ascending=False).iloc[:5]"
   ]
  },
  {
   "cell_type": "code",
   "execution_count": 365,
   "metadata": {},
   "outputs": [
    {
     "data": {
      "text/html": [
       "<div>\n",
       "<style scoped>\n",
       "    .dataframe tbody tr th:only-of-type {\n",
       "        vertical-align: middle;\n",
       "    }\n",
       "\n",
       "    .dataframe tbody tr th {\n",
       "        vertical-align: top;\n",
       "    }\n",
       "\n",
       "    .dataframe thead th {\n",
       "        text-align: right;\n",
       "    }\n",
       "</style>\n",
       "<table border=\"1\" class=\"dataframe\">\n",
       "  <thead>\n",
       "    <tr style=\"text-align: right;\">\n",
       "      <th></th>\n",
       "      <th>token</th>\n",
       "      <th>count</th>\n",
       "      <th>add one</th>\n",
       "      <th>Prob</th>\n",
       "      <th>LN(P)</th>\n",
       "    </tr>\n",
       "  </thead>\n",
       "  <tbody>\n",
       "    <tr>\n",
       "      <th>1512</th>\n",
       "      <td>제주</td>\n",
       "      <td>207</td>\n",
       "      <td>208</td>\n",
       "      <td>0.037057</td>\n",
       "      <td>-3.295303</td>\n",
       "    </tr>\n",
       "    <tr>\n",
       "      <th>1039</th>\n",
       "      <td>맛집</td>\n",
       "      <td>154</td>\n",
       "      <td>155</td>\n",
       "      <td>0.027614</td>\n",
       "      <td>-3.589415</td>\n",
       "    </tr>\n",
       "    <tr>\n",
       "      <th>1513</th>\n",
       "      <td>제주도</td>\n",
       "      <td>67</td>\n",
       "      <td>68</td>\n",
       "      <td>0.012115</td>\n",
       "      <td>-4.413333</td>\n",
       "    </tr>\n",
       "    <tr>\n",
       "      <th>1293</th>\n",
       "      <td>애월</td>\n",
       "      <td>57</td>\n",
       "      <td>58</td>\n",
       "      <td>0.010333</td>\n",
       "      <td>-4.572398</td>\n",
       "    </tr>\n",
       "    <tr>\n",
       "      <th>166</th>\n",
       "      <td>jeju</td>\n",
       "      <td>43</td>\n",
       "      <td>44</td>\n",
       "      <td>0.007839</td>\n",
       "      <td>-4.848651</td>\n",
       "    </tr>\n",
       "  </tbody>\n",
       "</table>\n",
       "</div>"
      ],
      "text/plain": [
       "     token  count  add one      Prob     LN(P)\n",
       "1512    제주    207      208  0.037057 -3.295303\n",
       "1039    맛집    154      155  0.027614 -3.589415\n",
       "1513   제주도     67       68  0.012115 -4.413333\n",
       "1293    애월     57       58  0.010333 -4.572398\n",
       "166   jeju     43       44  0.007839 -4.848651"
      ]
     },
     "execution_count": 365,
     "metadata": {},
     "output_type": "execute_result"
    }
   ],
   "source": [
    "semi_ads_c.sort_values(by=['add one'], ascending=False).iloc[:5]"
   ]
  },
  {
   "cell_type": "markdown",
   "metadata": {},
   "source": [
    "### Probability - removed common words"
   ]
  },
  {
   "cell_type": "code",
   "execution_count": 366,
   "metadata": {},
   "outputs": [],
   "source": [
    "common_words = [\"제주\",\"제주도\",\"jeju\",\"제주\"]\n",
    "\n",
    "new_ads_Lth3,new_non_ads_Lth3,new_semi_ads_Lth3 = [],[],[]\n",
    "for i in ads_Lth3:\n",
    "    if i not in common_words:\n",
    "        new_ads_Lth3.append(i)\n",
    "        \n",
    "for i in non_ads_Lth3:\n",
    "    if i not in common_words:\n",
    "        new_non_ads_Lth3.append(i)\n",
    "        \n",
    "for i in semi_ads_Lth3:\n",
    "    if i not in common_words:\n",
    "        new_semi_ads_Lth3.append(i)"
   ]
  },
  {
   "cell_type": "code",
   "execution_count": 367,
   "metadata": {},
   "outputs": [
    {
     "data": {
      "text/plain": [
       "(3663, 3409)"
      ]
     },
     "execution_count": 367,
     "metadata": {},
     "output_type": "execute_result"
    }
   ],
   "source": [
    "len(ads_Lth3),len(new_ads_Lth3)"
   ]
  },
  {
   "cell_type": "code",
   "execution_count": 368,
   "metadata": {},
   "outputs": [
    {
     "data": {
      "text/plain": [
       "(3703, 3401)"
      ]
     },
     "execution_count": 368,
     "metadata": {},
     "output_type": "execute_result"
    }
   ],
   "source": [
    "len(non_ads_Lth3),len(new_non_ads_Lth3)"
   ]
  },
  {
   "cell_type": "code",
   "execution_count": 369,
   "metadata": {},
   "outputs": [
    {
     "data": {
      "text/plain": [
       "(3846, 3519)"
      ]
     },
     "execution_count": 369,
     "metadata": {},
     "output_type": "execute_result"
    }
   ],
   "source": [
    "len(semi_ads_Lth3),len(new_semi_ads_Lth3)"
   ]
  },
  {
   "cell_type": "code",
   "execution_count": 370,
   "metadata": {},
   "outputs": [],
   "source": [
    "ads_LCKF = pd.DataFrame(new_ads_Lth3, columns=['token'])\n",
    "ads_c = pd.DataFrame(ads_LCKF.groupby(['token'])['token'].count()).rename(columns = {'token':'count'}).reset_index()\n",
    "ads_c['add one'] = ads_c['count']+1\n",
    "ads_c['Prob'] = ads_c['add one']/ads_c['add one'].sum()\n",
    "ads_c['LN(P)'] = np.log(ads_c['Prob'])\n",
    "\n",
    "non_ads_LCKF = pd.DataFrame(new_non_ads_Lth3, columns=['token'])\n",
    "non_ads_c = pd.DataFrame(non_ads_LCKF.groupby(['token'])['token'].count()).rename(columns = {'token':'count'}).reset_index()\n",
    "non_ads_c['add one'] = non_ads_c['count']+1\n",
    "non_ads_c['Prob'] = non_ads_c['add one']/non_ads_c['add one'].sum()\n",
    "non_ads_c['LN(P)'] = np.log(non_ads_c['Prob'])\n",
    "\n",
    "semi_ads_LCKF = pd.DataFrame(new_semi_ads_Lth3, columns=['token'])\n",
    "semi_ads_c = pd.DataFrame(semi_ads_LCKF.groupby(['token'])['token'].count()).rename(columns = {'token':'count'}).reset_index()\n",
    "semi_ads_c['add one'] = semi_ads_c['count']+1\n",
    "semi_ads_c['Prob'] = semi_ads_c['add one']/semi_ads_c['add one'].sum()\n",
    "semi_ads_c['LN(P)'] = np.log(semi_ads_c['Prob'])"
   ]
  },
  {
   "cell_type": "code",
   "execution_count": 377,
   "metadata": {},
   "outputs": [
    {
     "data": {
      "text/html": [
       "<div>\n",
       "<style scoped>\n",
       "    .dataframe tbody tr th:only-of-type {\n",
       "        vertical-align: middle;\n",
       "    }\n",
       "\n",
       "    .dataframe tbody tr th {\n",
       "        vertical-align: top;\n",
       "    }\n",
       "\n",
       "    .dataframe thead th {\n",
       "        text-align: right;\n",
       "    }\n",
       "</style>\n",
       "<table border=\"1\" class=\"dataframe\">\n",
       "  <thead>\n",
       "    <tr style=\"text-align: right;\">\n",
       "      <th></th>\n",
       "      <th>token</th>\n",
       "      <th>count</th>\n",
       "      <th>add one</th>\n",
       "      <th>Prob</th>\n",
       "      <th>LN(P)</th>\n",
       "    </tr>\n",
       "  </thead>\n",
       "  <tbody>\n",
       "    <tr>\n",
       "      <th>1118</th>\n",
       "      <td>네일</td>\n",
       "      <td>56</td>\n",
       "      <td>57</td>\n",
       "      <td>0.010779</td>\n",
       "      <td>-4.530144</td>\n",
       "    </tr>\n",
       "    <tr>\n",
       "      <th>353</th>\n",
       "      <td>ng</td>\n",
       "      <td>38</td>\n",
       "      <td>39</td>\n",
       "      <td>0.007375</td>\n",
       "      <td>-4.909634</td>\n",
       "    </tr>\n",
       "    <tr>\n",
       "      <th>1720</th>\n",
       "      <td>청년</td>\n",
       "      <td>31</td>\n",
       "      <td>32</td>\n",
       "      <td>0.006051</td>\n",
       "      <td>-5.107459</td>\n",
       "    </tr>\n",
       "    <tr>\n",
       "      <th>1411</th>\n",
       "      <td>스냅</td>\n",
       "      <td>31</td>\n",
       "      <td>32</td>\n",
       "      <td>0.006051</td>\n",
       "      <td>-5.107459</td>\n",
       "    </tr>\n",
       "    <tr>\n",
       "      <th>1543</th>\n",
       "      <td>웨딩</td>\n",
       "      <td>23</td>\n",
       "      <td>24</td>\n",
       "      <td>0.004539</td>\n",
       "      <td>-5.395142</td>\n",
       "    </tr>\n",
       "  </tbody>\n",
       "</table>\n",
       "</div>"
      ],
      "text/plain": [
       "     token  count  add one      Prob     LN(P)\n",
       "1118    네일     56       57  0.010779 -4.530144\n",
       "353     ng     38       39  0.007375 -4.909634\n",
       "1720    청년     31       32  0.006051 -5.107459\n",
       "1411    스냅     31       32  0.006051 -5.107459\n",
       "1543    웨딩     23       24  0.004539 -5.395142"
      ]
     },
     "execution_count": 377,
     "metadata": {},
     "output_type": "execute_result"
    }
   ],
   "source": [
    "ads_c.sort_values(by=['add one'], ascending=False).iloc[:5]"
   ]
  },
  {
   "cell_type": "code",
   "execution_count": 378,
   "metadata": {},
   "outputs": [
    {
     "data": {
      "text/html": [
       "<div>\n",
       "<style scoped>\n",
       "    .dataframe tbody tr th:only-of-type {\n",
       "        vertical-align: middle;\n",
       "    }\n",
       "\n",
       "    .dataframe tbody tr th {\n",
       "        vertical-align: top;\n",
       "    }\n",
       "\n",
       "    .dataframe thead th {\n",
       "        text-align: right;\n",
       "    }\n",
       "</style>\n",
       "<table border=\"1\" class=\"dataframe\">\n",
       "  <thead>\n",
       "    <tr style=\"text-align: right;\">\n",
       "      <th></th>\n",
       "      <th>token</th>\n",
       "      <th>count</th>\n",
       "      <th>add one</th>\n",
       "      <th>Prob</th>\n",
       "      <th>LN(P)</th>\n",
       "    </tr>\n",
       "  </thead>\n",
       "  <tbody>\n",
       "    <tr>\n",
       "      <th>1652</th>\n",
       "      <td>여행</td>\n",
       "      <td>75</td>\n",
       "      <td>76</td>\n",
       "      <td>0.013778</td>\n",
       "      <td>-4.284675</td>\n",
       "    </tr>\n",
       "    <tr>\n",
       "      <th>1082</th>\n",
       "      <td>그램</td>\n",
       "      <td>48</td>\n",
       "      <td>49</td>\n",
       "      <td>0.008883</td>\n",
       "      <td>-4.723588</td>\n",
       "    </tr>\n",
       "    <tr>\n",
       "      <th>1515</th>\n",
       "      <td>스타</td>\n",
       "      <td>39</td>\n",
       "      <td>40</td>\n",
       "      <td>0.007252</td>\n",
       "      <td>-4.926529</td>\n",
       "    </tr>\n",
       "    <tr>\n",
       "      <th>1795</th>\n",
       "      <td>일상</td>\n",
       "      <td>31</td>\n",
       "      <td>32</td>\n",
       "      <td>0.005801</td>\n",
       "      <td>-5.149672</td>\n",
       "    </tr>\n",
       "    <tr>\n",
       "      <th>197</th>\n",
       "      <td>daily</td>\n",
       "      <td>26</td>\n",
       "      <td>27</td>\n",
       "      <td>0.004895</td>\n",
       "      <td>-5.319571</td>\n",
       "    </tr>\n",
       "  </tbody>\n",
       "</table>\n",
       "</div>"
      ],
      "text/plain": [
       "      token  count  add one      Prob     LN(P)\n",
       "1652     여행     75       76  0.013778 -4.284675\n",
       "1082     그램     48       49  0.008883 -4.723588\n",
       "1515     스타     39       40  0.007252 -4.926529\n",
       "1795     일상     31       32  0.005801 -5.149672\n",
       "197   daily     26       27  0.004895 -5.319571"
      ]
     },
     "execution_count": 378,
     "metadata": {},
     "output_type": "execute_result"
    }
   ],
   "source": [
    "non_ads_c.sort_values(by=['add one'], ascending=False).iloc[:5]"
   ]
  },
  {
   "cell_type": "code",
   "execution_count": 379,
   "metadata": {},
   "outputs": [
    {
     "data": {
      "text/html": [
       "<div>\n",
       "<style scoped>\n",
       "    .dataframe tbody tr th:only-of-type {\n",
       "        vertical-align: middle;\n",
       "    }\n",
       "\n",
       "    .dataframe tbody tr th {\n",
       "        vertical-align: top;\n",
       "    }\n",
       "\n",
       "    .dataframe thead th {\n",
       "        text-align: right;\n",
       "    }\n",
       "</style>\n",
       "<table border=\"1\" class=\"dataframe\">\n",
       "  <thead>\n",
       "    <tr style=\"text-align: right;\">\n",
       "      <th></th>\n",
       "      <th>token</th>\n",
       "      <th>count</th>\n",
       "      <th>add one</th>\n",
       "      <th>Prob</th>\n",
       "      <th>LN(P)</th>\n",
       "    </tr>\n",
       "  </thead>\n",
       "  <tbody>\n",
       "    <tr>\n",
       "      <th>1037</th>\n",
       "      <td>맛집</td>\n",
       "      <td>154</td>\n",
       "      <td>155</td>\n",
       "      <td>0.029345</td>\n",
       "      <td>-3.528635</td>\n",
       "    </tr>\n",
       "    <tr>\n",
       "      <th>1291</th>\n",
       "      <td>애월</td>\n",
       "      <td>57</td>\n",
       "      <td>58</td>\n",
       "      <td>0.010981</td>\n",
       "      <td>-4.511617</td>\n",
       "    </tr>\n",
       "    <tr>\n",
       "      <th>1340</th>\n",
       "      <td>여행</td>\n",
       "      <td>38</td>\n",
       "      <td>39</td>\n",
       "      <td>0.007384</td>\n",
       "      <td>-4.908498</td>\n",
       "    </tr>\n",
       "    <tr>\n",
       "      <th>1606</th>\n",
       "      <td>카페</td>\n",
       "      <td>29</td>\n",
       "      <td>30</td>\n",
       "      <td>0.005680</td>\n",
       "      <td>-5.170863</td>\n",
       "    </tr>\n",
       "    <tr>\n",
       "      <th>1590</th>\n",
       "      <td>추천</td>\n",
       "      <td>29</td>\n",
       "      <td>30</td>\n",
       "      <td>0.005680</td>\n",
       "      <td>-5.170863</td>\n",
       "    </tr>\n",
       "  </tbody>\n",
       "</table>\n",
       "</div>"
      ],
      "text/plain": [
       "     token  count  add one      Prob     LN(P)\n",
       "1037    맛집    154      155  0.029345 -3.528635\n",
       "1291    애월     57       58  0.010981 -4.511617\n",
       "1340    여행     38       39  0.007384 -4.908498\n",
       "1606    카페     29       30  0.005680 -5.170863\n",
       "1590    추천     29       30  0.005680 -5.170863"
      ]
     },
     "execution_count": 379,
     "metadata": {},
     "output_type": "execute_result"
    }
   ],
   "source": [
    "semi_ads_c.sort_values(by=['add one'], ascending=False).iloc[:5]"
   ]
  },
  {
   "cell_type": "markdown",
   "metadata": {},
   "source": [
    "### Test"
   ]
  },
  {
   "cell_type": "code",
   "execution_count": 374,
   "metadata": {},
   "outputs": [],
   "source": [
    "Test_data = ads[-5:]+non_ads[-5:]+semi_ads[-5:]\n",
    "\n",
    "Test_data_split = []\n",
    "for i in range(len(Test_data)):\n",
    "    tmp=[]\n",
    "    for j in Test_data[i].split():\n",
    "        tmp += okt.morphs(j)\n",
    "    Test_data_split.append(tmp)"
   ]
  },
  {
   "cell_type": "code",
   "execution_count": 375,
   "metadata": {},
   "outputs": [],
   "source": [
    "ads_prob = [[] for cols in range(len(Test_data_split))]\n",
    "for i in range(len(Test_data_split)):\n",
    "    for j in range(len(Test_data_split[i])):\n",
    "        if len(Test_data_split[i][j]) > 1 and j not in common_words:\n",
    "            if(ads_c[ads_c['token'].isin([Test_data_split[i][j]])]['LN(P)'].empty):\n",
    "                ads_prob[i].append(math.log(1/ads_c['add one'].sum()))\n",
    "            else:\n",
    "                ads_prob[i].append(ads_c[ads_c['token'].isin([Test_data_split[i][j]])]['LN(P)'].values[0])\n",
    "        else:\n",
    "            ads_prob[i].append(0.0)\n",
    "\n",
    "non_ads_prob = [[] for cols in range(len(Test_data_split))]\n",
    "for i in range(len(Test_data_split)):\n",
    "    for j in range(len(Test_data_split[i])):\n",
    "        if len(Test_data_split[i][j]) > 1:\n",
    "            if(non_ads_c[non_ads_c['token'].isin([Test_data_split[i][j]])]['LN(P)'].empty):\n",
    "                non_ads_prob[i].append(math.log(1/non_ads_c['add one'].sum()))\n",
    "            else:\n",
    "                non_ads_prob[i].append(non_ads_c[non_ads_c['token'].isin([Test_data_split[i][j]])]['LN(P)'].values[0])\n",
    "        else:\n",
    "            non_ads_prob[i].append(0.0)\n",
    "            \n",
    "semi_ads_prob = [[] for cols in range(len(Test_data_split))]\n",
    "for i in range(len(Test_data_split)):\n",
    "    for j in range(len(Test_data_split[i])):\n",
    "        if len(Test_data_split[i][j]) > 1:\n",
    "            if(semi_ads_c[semi_ads_c['token'].isin([Test_data_split[i][j]])]['LN(P)'].empty):\n",
    "                semi_ads_prob[i].append(math.log(1/semi_ads_c['add one'].sum()))\n",
    "            else:\n",
    "                semi_ads_prob[i].append(semi_ads_c[semi_ads_c['token'].isin([Test_data_split[i][j]])]['LN(P)'].values[0])\n",
    "        else:\n",
    "            semi_ads_prob[i].append(0.0)"
   ]
  },
  {
   "cell_type": "markdown",
   "metadata": {},
   "source": [
    "### Result"
   ]
  },
  {
   "cell_type": "code",
   "execution_count": 376,
   "metadata": {},
   "outputs": [
    {
     "name": "stdout",
     "output_type": "stream",
     "text": [
      "Semi-ads\n",
      "Semi-ads\n",
      "Semi-ads\n",
      "Ads\n",
      "Ads\n",
      "Non-ads\n",
      "Non-ads\n",
      "Semi-ads\n",
      "Non-ads\n",
      "Non-ads\n",
      "Semi-ads\n",
      "Semi-ads\n",
      "Semi-ads\n",
      "Semi-ads\n",
      "Semi-ads\n"
     ]
    }
   ],
   "source": [
    "result = []\n",
    "for i in range(len(ads_prob)):\n",
    "    p_ads,p_non_ads,p_semi_ads = np.sum(ads_prob[i]),np.sum(non_ads_prob[i]),np.sum(semi_ads_prob[i])\n",
    "#     print(p_ads,p_non_ads,p_semi_ads)\n",
    "    p_max = max([p_ads,p_non_ads,p_semi_ads])\n",
    "    if(p_max == p_ads):\n",
    "        print(\"Ads\")\n",
    "    elif(p_max == p_non_ads):\n",
    "        print(\"Non-ads\")\n",
    "    else:\n",
    "        print(\"Semi-ads\")"
   ]
  }
 ],
 "metadata": {
  "kernelspec": {
   "display_name": "Python 3",
   "language": "python",
   "name": "python3"
  },
  "language_info": {
   "codemirror_mode": {
    "name": "ipython",
    "version": 3
   },
   "file_extension": ".py",
   "mimetype": "text/x-python",
   "name": "python",
   "nbconvert_exporter": "python",
   "pygments_lexer": "ipython3",
   "version": "3.7.4"
  }
 },
 "nbformat": 4,
 "nbformat_minor": 4
}
